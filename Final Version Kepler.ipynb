{
 "cells": [
  {
   "cell_type": "markdown",
   "metadata": {},
   "source": [
    "# TP1: Kepler et Runge-Kutta 4"
   ]
  },
  {
   "cell_type": "markdown",
   "metadata": {},
   "source": [
    "![Image of forces](https://raw.githubusercontent.com/bknaepen/MATHF314_2017/master/Kepler/figs/forces.png)"
   ]
  },
  {
   "cell_type": "markdown",
   "metadata": {},
   "source": [
    "On veut résoudre l'équation de mouvement de la lune soumis à la force de gravitation de la terre. On considère que toute autre force est négligeable.\n",
    "La force de gravitation entre deux corps est donné par $$\\overrightarrow{F_{1,2}}=-\\overrightarrow{F_{2,1}}= \\frac{-Gm_{1}m_{2}\\overrightarrow{r}}{r^{3}}$$ pour la figure ci-dessus"
   ]
  },
  {
   "cell_type": "markdown",
   "metadata": {},
   "source": [
    "Nous n'allons considerer que la force gravitationnelle entre la Terre et la Lune et plaçons l'origine de notre réféntiel dans la position de la Terre à t=0\n",
    "\n",
    "Par le théorème du moment cinétique nous avons $$\\frac{d\\vec{L}}{dt}=\\vec{r}x\\vec{F_{1,2}}$$ Or, nous avons une force centrale donc \n",
    "$$\\vec{r}x\\vec{F_{1,2}}=0 \\Rightarrow \\vec{L}=cst$$\n",
    "et finalement $\\vec{r}$ et $\\vec{v}$ sont perpendiculaires à tout instant au vecteur $\\vec{L}$\n",
    "\n",
    "Cela implique que la trajectoire est plane. Nous pouvons donc placer notre repère de telle sorte que la plane soit sur le plan (x, y) tel sorte que \n",
    "l'axe y orienté vers la vitesse initiale qui nous ai donné au périgeé de la trajectoire.\n",
    "On considère que $m_{2}=m_{t}$ où $m_{t}$ est la masse de la terre. Nous allons resoudre la le mouvement relative de la lune par raport à la terra. La loi de Newton nous donne:\n",
    "\n",
    "\\begin{align}\n",
    "m_1&\\ddot{\\vec{r_1}}=-\\frac{Gm_1m_2}{r^3}\\vec{r}\\\\\n",
    "m_2&\\ddot{\\vec{r_2}}=\\frac{Gm_1m_2}{r^3}\\vec{r}\\\\\n",
    "\\end{align}\n",
    "\n",
    "Nous pouvons utiliser ces equations pour trouver l'equation de la position relative de la Lune:\n",
    "\\begin{align}\n",
    "&\\ddot{\\vec{r_1}}=-\\frac{Gm_2}{r^3}\\vec{r}\\\\\n",
    "&\\ddot{\\vec{r_2}}=\\frac{Gm_1}{r^3}\\vec{r}\\\\\n",
    "\\end{align}\n",
    "\n",
    "Finalment nous trouvons l'equation a resoudre:\n",
    "$$\n",
    "\\ddot{\\vec{r}}=\\ddot{\\vec{r_2}}-\\ddot{\\vec{r_1}}=-\\frac{G(m_1+m_2)}{r^3}\\vec{r}\\\\\n",
    "$$\n",
    "\n",
    "Notons déjà que par la suite, lorque nous parlerons de l'angle θ, ce sera l'angle décrit par la figure suivante\n",
    "![Image of ellipse](https://raw.githubusercontent.com/bknaepen/MATHF314_2017/master/Kepler/figs/ellipse.png)"
   ]
  },
  {
   "cell_type": "markdown",
   "metadata": {},
   "source": [
    "Nous allons d'abord résoudre cette equation de façon analytique. On trouve d'abord les derivées de nos vecteurs\n",
    "\n",
    "\\begin{align}\n",
    "&\\dot{\\vec{r}}=\\dot{r}\\vec{r}+r\\vec{r}\\\\\n",
    "&\\ddot{\\vec{r}}=\\ddot{r}\\vec{u_r}+\\dot{r}\\dot{\\vec{u_r}}+\\dot{r}\\dot{\\vec{u_r}}+r\\ddot{\\vec{u_r}}\n",
    "\\end{align}\n",
    "\n",
    "avec\n",
    "\\begin{align}\n",
    "\\left\\{\\begin{matrix}\\dot{\\vec{u_r}}=\\dot{\\theta}\\vec{u_{\\theta}}\\\\\n",
    "\\ddot{\\vec{u_r}}=-\\dot{\\theta}^2\\vec{u_r}+\\ddot{\\theta}\\vec{u_{\\theta}}\\end{matrix}\\right.\n",
    "\\end{align}\n",
    "\n",
    "\n"
   ]
  },
  {
   "cell_type": "markdown",
   "metadata": {},
   "source": [
    "Notre equation devient\n",
    "$$\n",
    "\\ddot{r}\\vec{u_r}+2\\dot{r}\\dot{\\theta}\\vec{u_r}+r\\ddot{\\theta}\\vec{u_{\\theta}}-r\\dot{\\theta}^2=\\frac{G(m_1+m_2)}{r^2}\\vec{u_r}\n",
    "$$\n",
    "Où on peut separer l'equation selon ses composantes\n",
    "$$\n",
    "\\left\\{\\begin{matrix}2\\dot{r}+\\dot{\\theta}+r\\ddot{\\theta}=0\\\\\\ddot{r}-r\\dot{\\theta}^2=\\frac{G(m_1+m_2)}{r^2}\\end{matrix}\\right.\n",
    "$$\n",
    "On arrive alors à\n",
    "$$\\frac{\\dot{\\theta}}{\\ddot{\\theta}}=-\\frac{2\\dot{r}}{r} \\Rightarrow r^2\\dot{\\theta}=C$$\n",
    "Cette relation est aussi connue comme la loi des aires \n",
    "\n"
   ]
  },
  {
   "cell_type": "markdown",
   "metadata": {},
   "source": [
    "Maintenant on pose  $u=\\frac{1}{r}$ et on remarque que\n",
    "$$\n",
    "\\dot{r}={\\frac{1}{\\dot{u}}}=-\\frac{\\dot{u}}{u^2}$$\n",
    "et\n",
    "$$\n",
    "\\dot{u}=\\frac{du}{d\\theta}\\dot{\\theta}=\\frac{du}{d\\theta}\\frac{c}{r^2}\n",
    "\\Rightarrow \\dot{u}=cu^2\\frac{du}{d\\theta}$$\n",
    "\n",
    "$$\n",
    "\\Rightarrow \\dot{r}=-c\\frac{du}{d\\theta} \\Rightarrow \\ddot{r}=-c\\frac{d^2u}{d\\theta^2}\\dot{\\theta}=-c^2u^2\\frac{d^2u}{d\\theta^2}\n",
    "$$"
   ]
  },
  {
   "cell_type": "markdown",
   "metadata": {},
   "source": [
    "L'equation devient \n",
    "$$\n",
    "-c^2u^2\\frac{d^2u}{d\\theta^2}-\\frac{u^4c^2}{u}+G(m_1m_2)u^2=0\n",
    "\\Rightarrow -c^2\\frac{d^2u}{d\\theta^2}-uc^2+G(m_1+m_2)=0\n",
    "$$\n",
    "Ceci revient a trouver la solution à \n",
    "$$\\frac{d^2u}{d\\theta^2}+u=\\frac{G(m_1+m_2)}{c^2}$$\n",
    "\n",
    "La solution est evidement:\n",
    "$$u(\\theta)=Acos(\\theta)+Bsin(\\theta)+ \\frac{G(m_1+m_2)}{c^2}\n",
    "\\Rightarrow r(\\theta)=\\frac{1}{Acos(\\theta)+Bsin(\\theta)+ \\frac{G(m_1+m_2)}{c^2}}$$\n",
    "\n",
    "Pour determiner les constantes on applique les conditions initiales $r(0)=r_{min}=r_0$ et $\\vec{v}=\\vec{v_\\theta}$\n",
    "$$\n",
    "r(0)=\\frac{1}{Acos(0)+Bsin(0)+\\frac{G(m_1+m_2)}{c^2}}=\\frac{c^2}{Ac^2+G(m_1+m_2)}=r_{min}\n",
    "$$\n",
    "\n",
    "Or $\\dot{\\theta}=\\frac{v_{\\theta}}{r}$ et $c=r^2\\dot{\\theta} \\  \\forall $ t et en particulier pour $t=\\theta=0$ et donc \n",
    "$ c=r^2\\dot{\\theta}=r_{0}v_{\\theta}$\n",
    "\n",
    "Alors\n",
    "$$A(r_0v_\\theta)^2+G(m_1+m_2)=r_0v_\\theta^2\n",
    "\\Rightarrow A=\\frac{1}{r_0}-\\frac{G(m_1+m_2)}{r_0v_\\theta^2}$$\n"
   ]
  },
  {
   "cell_type": "markdown",
   "metadata": {},
   "source": [
    "Pour B voyons que \n",
    "$$\n",
    "B=\\frac{du}{d\\theta}=\\frac{du}{dr}\\frac{dr}{d\\theta}=-\\frac{1}{r^2}\\frac{du}{dt}\\frac{dt}{dr}=-\\frac{1}{c}\\frac{dr}{dt}=-\\frac{v_r}{r_0v_\\theta} =0\n",
    "$$\n",
    "\n",
    "Nous avons finalement\n",
    "$$r(\\theta)=\\frac{1}{(\\frac{1}{r_0}-\\frac{G(m_1\n",
    "+m_2)}{(r_0v_\\theta)^2})cos(\\theta)+\\frac{G(m_1+m_2)}{(r_0v_\\theta)^2}}$$\n",
    "\n",
    "Pour ramener cette equations a une equations de l'ellipse posons $\\frac{G(m_1+m_2)}{(r_0v_\\theta)^2}=K$\n",
    "$$\n",
    "r(\\theta)=\\frac{1}{(\\frac{1}{r_0}-K)cos(\\theta)+K}\\\\\n",
    "=\\frac{1/K}{(\\frac{1}{r_0K}-1)cos(\\theta)+1}\\\\\n",
    "$$\n",
    "\n",
    "Et finalement si on pose $\\frac{1}{Kr_0}-1=e$\n",
    "$$r(\\theta)=\\frac{r_0(1+e)}{ecos(\\theta)+1}$$\n",
    "\n",
    "A partir de cette equation et nos conditions initiales nous trouvons une excentricité de 0,054900029"
   ]
  },
  {
   "cell_type": "markdown",
   "metadata": {},
   "source": [
    "La periode elle est \n",
    "$$C=v_{\\theta}r_0=2*\\frac{ab}{T}$$\n",
    "Ce qui nous donne une valeur de 2350681 secondes soit +- 27,207 jours"
   ]
  },
  {
   "cell_type": "markdown",
   "metadata": {},
   "source": [
    "Pour la solution numerique nous ecrivons l'equation en coordonéees cartesiennes et nous avons donc trois équations à résoudre:\n",
    "$$\\left\\{\\begin{matrix}\\ddot{x}= \\frac{-G(m_{t}+m_l)x}{\\sqrt{x^{2}+y^{2}+z^{2}}}\\\\\\ddot{y}= \\frac{-G(m_{t}+m_l)y}{\\sqrt{x^{2}+y^{2}+z^{2}}}\\\\\\ddot{z}= \\frac{-G(m_{t}+m_l)z}{\\sqrt{x^{2}+y^{2}+z^{2}}}\\end{matrix}\\right.$$\n",
    "On pose $$u=\\begin{pmatrix}x\\\\\\dot{x}\\\\y\\\\\\dot{y}\\\\z\\\\\\dot{z}\\end{pmatrix} ~~~~et~~~~ f(u)=\\dot{u}=\\begin{pmatrix}\\dot{x}\\\\\\ddot{x}\\\\\\dot{y}\\\\\\ddot{y}\\\\\\dot{z}\\\\\\ddot{z}\\end{pmatrix}=\\begin{pmatrix}\\dot{x}\\\\\\frac{-G(m_{t}+m_l)x}{\\sqrt{x^{2}+y^{2}+z^{2}}}\\\\\\dot{y}\\\\\\frac{-G(m_{t}+m_l)y}{\\sqrt{x^{2}+y^{2}+z^{2}}}\\\\\\dot{z}\\\\\\frac{-G(m_{t}+m_l)z}{\\sqrt{x^{2}+y^{2}+z^{2}}}\\end{pmatrix}$$\n"
   ]
  },
  {
   "cell_type": "markdown",
   "metadata": {},
   "source": []
  },
  {
   "cell_type": "markdown",
   "metadata": {},
   "source": [
    "Nous résoudrons ces équation différentielles par la méthode de Runge Kutta 4:\n"
   ]
  },
  {
   "cell_type": "markdown",
   "metadata": {},
   "source": [
    "Pour $f(u)=\\dot{u}$ et $u\\left ( t=0 \\right )=u_{0}$"
   ]
  },
  {
   "cell_type": "markdown",
   "metadata": {},
   "source": [
    "On peut approximer u par l'équation$$u_{n+1}=u_{n}+\\frac{\\Delta t}{6}(k_{1}+2k_{3}+2k_{2}+k_{4})$$\n",
    "avec$$\\left\\{\\begin{matrix}k_{1}=f\\left ( u_{n} \\right )~~~~~~~~~\\\\k_{2}=f\\left ( u_{n}+\\frac{\\Delta t}{2}k_{1} \\right )\\\\k_{3}=f\\left ( u_{n}+\\frac{\\Delta t}{2}k_{2} \\right )\\\\k_{4}=f\\left ( u_{n}+\\Delta t k_{3} \\right )\\end{matrix}\\right.$$"
   ]
  },
  {
   "cell_type": "markdown",
   "metadata": {},
   "source": [
    "Nous allons choisir un pas $\\Delta t=1 secondes$"
   ]
  },
  {
   "cell_type": "markdown",
   "metadata": {},
   "source": [
    "L'itération se fera N fois où $N=int(\\frac{t}{\\Delta t}+1)$ pour trouver u(t)"
   ]
  },
  {
   "cell_type": "markdown",
   "metadata": {},
   "source": [
    "Expliquons le code:"
   ]
  },
  {
   "cell_type": "markdown",
   "metadata": {},
   "source": [
    "On importe les modules dont on a besoin"
   ]
  },
  {
   "cell_type": "code",
   "execution_count": 18,
   "metadata": {
    "collapsed": true
   },
   "outputs": [],
   "source": [
    "import matplotlib.pyplot as plt"
   ]
  },
  {
   "cell_type": "code",
   "execution_count": 19,
   "metadata": {
    "collapsed": true
   },
   "outputs": [],
   "source": [
    "import time"
   ]
  },
  {
   "cell_type": "code",
   "execution_count": 20,
   "metadata": {},
   "outputs": [],
   "source": [
    "import numpy as numeric"
   ]
  },
  {
   "cell_type": "code",
   "execution_count": 21,
   "metadata": {
    "collapsed": true
   },
   "outputs": [],
   "source": [
    "import math"
   ]
  },
  {
   "cell_type": "markdown",
   "metadata": {},
   "source": [
    "Nous implémentons les constantes"
   ]
  },
  {
   "cell_type": "code",
   "execution_count": 22,
   "metadata": {
    "collapsed": true
   },
   "outputs": [],
   "source": [
    "mt=5.972*10**24"
   ]
  },
  {
   "cell_type": "code",
   "execution_count": 23,
   "metadata": {
    "collapsed": true
   },
   "outputs": [],
   "source": [
    "ml=7.348*10**22"
   ]
  },
  {
   "cell_type": "code",
   "execution_count": 24,
   "metadata": {
    "collapsed": true
   },
   "outputs": [],
   "source": [
    "G=6.67408*(10**-11)"
   ]
  },
  {
   "cell_type": "markdown",
   "metadata": {},
   "source": [
    "Nous implémentons les conditions initiales"
   ]
  },
  {
   "cell_type": "code",
   "execution_count": 25,
   "metadata": {
    "collapsed": true
   },
   "outputs": [],
   "source": [
    "vi=1083.434974"
   ]
  },
  {
   "cell_type": "code",
   "execution_count": 26,
   "metadata": {
    "collapsed": true
   },
   "outputs": [],
   "source": [
    "rmin=362600000"
   ]
  },
  {
   "cell_type": "code",
   "execution_count": 39,
   "metadata": {
    "collapsed": true
   },
   "outputs": [],
   "source": [
    "u0=numeric.array([-rmin,0.0,0.0,vi,0.0,0.0])"
   ]
  },
  {
   "cell_type": "markdown",
   "metadata": {},
   "source": [
    "Ensuite nous définissons f une fonction $$f:u\\rightarrow f(u):\\begin{pmatrix}x\\\\\\dot{x}\\\\y\\\\\\dot{y}\\\\z\\\\\\dot{z}\\end{pmatrix}\\rightarrow \\begin{pmatrix}\\dot{x}\\\\\\frac{-G(m_{t}+m_l)x}{\\sqrt{x^{2}+y^{2}+z^{2}}}\\\\\\dot{y}\\\\\\frac{-G(m_{t}+m_l)y}{\\sqrt{x^{2}+y^{2}+z^{2}}}\\\\\\dot{z}\\\\\\frac{-G(m_{t}+m_l)z}{\\sqrt{x^{2}+y^{2}+z^{2}}}\\end{pmatrix}$$"
   ]
  },
  {
   "cell_type": "code",
   "execution_count": 40,
   "metadata": {
    "collapsed": true
   },
   "outputs": [],
   "source": [
    "def f(u):\n",
    "    return numeric.array([u[1],-G*(mt+ml)*u[0]/(((u[0]**2)+(u[2]**2)+(u[4]**2))**1.5),u[3],-G*(mt+ml)*u[2]/(((u[0]**2)+(u[2]**2)+(u[4]**2))**1.5),u[5],-G*(mt+ml)*u[4]/(((u[0]**2)+(u[2]**2)+(u[4]**2))**1.5)])"
   ]
  },
  {
   "cell_type": "markdown",
   "metadata": {},
   "source": [
    "On définit la fonction RK4 qui est la fonction qui en prennant les conditions initiales en argument, résoud l'équation différentille."
   ]
  },
  {
   "cell_type": "code",
   "execution_count": 41,
   "metadata": {},
   "outputs": [],
   "source": [
    "def RK4(u,l):\n",
    "    dt=1 #dt est notre pas \n",
    "    teta=[]\n",
    "    teta.append(0) # C'est juste pour mettre quelque chose à teta[0] et teta[1]\n",
    "    teta.append(0)\n",
    "    t=0\n",
    "    global x,y,z\n",
    "    z=[]\n",
    "    y=[]\n",
    "    x=[]\n",
    "    while teta[t-1]<l and abs(teta[t-2]-teta[t-1])<1: #Tant que teta ne passe pas discretement de 2π à 0. Le 1 est juste arbitraire \n",
    "            k1=f(u)                     #On applique la méthode de Runge Kutta 4 expliqué plus audessus              \n",
    "            k2=f(u+dt*k1*0.5)\n",
    "            k3=f(u+dt*k2*0.5)\n",
    "            k4=f(u+dt*k3)\n",
    "            u=u+dt*(k1+2*k2+2*k3+k4)/6\n",
    "            x.append(u[0])              #On retient de u les valeur x et y           \n",
    "            y.append(u[2])\n",
    "            z.append(u[4])\n",
    "            if x[t]<0.0 and y[t]>=0.0:    #On cherche θ des coordonnées polaires à partir des coordonnées cartésiennes\n",
    "                teta.append(-math.atan(y[t]/x[t]))    #Pour ce faire, nous nous arrangeons pour que cette transformation \n",
    "            elif x[t]<0.0 and y[t]<0.0:                   #soit bijective, autrement dit que θ soit de 0 à 2π        \n",
    "                teta.append(-math.atan(y[t]/x[t])+2*math.pi)\n",
    "            elif x[t]>0.0:\n",
    "                teta.append(-math.atan(y[t]/x[t])+math.pi)\n",
    "            elif x[t]==0.0 and y[t]>0.0:\n",
    "                teta.append(0.5*math.pi)\n",
    "            elif x[t]==0.0 and y[t]<0.0:\n",
    "                teta.append(1.5*math.pi)\n",
    "            t+=dt"
   ]
  },
  {
   "cell_type": "code",
   "execution_count": 42,
   "metadata": {},
   "outputs": [],
   "source": [
    "RK4(u0,2*math.pi)"
   ]
  },
  {
   "cell_type": "code",
   "execution_count": 43,
   "metadata": {},
   "outputs": [
    {
     "name": "stdout",
     "output_type": "stream",
     "text": [
      "la période vaut 2350683\n",
      "b vaut 383084497.255\n",
      "a vaut 383663116.433\n",
      "l excentricité vaut 0.0549000295611\n"
     ]
    },
    {
     "data": {
      "image/png": "iVBORw0KGgoAAAANSUhEUgAAAZgAAAEaCAYAAAAsQ0GGAAAABHNCSVQICAgIfAhkiAAAAAlwSFlz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\nBowkqRP/H9nX/wjPyjceAAAAAElFTkSuQmCC\n",
      "text/plain": [
       "<matplotlib.figure.Figure at 0x7fdc5750fbe0>"
      ]
     },
     "metadata": {},
     "output_type": "display_data"
    },
    {
     "data": {
      "image/png": "iVBORw0KGgoAAAANSUhEUgAAAZgAAAEaCAYAAAAsQ0GGAAAABHNCSVQICAgIfAhkiAAAAAlwSFlz\nAAALEgAACxIB0t1+/AAAADl0RVh0U29mdHdhcmUAbWF0cGxvdGxpYiB2ZXJzaW9uIDIuMS4wLCBo\ndHRwOi8vbWF0cGxvdGxpYi5vcmcvpW3flQAAHOpJREFUeJzt3Xm4JHV97/H3hxk22deIzIxDMkTB\nBRPPhSjJDbKJUSEaE8ElYwIhN0/IjVEfg+KCgInGBIwBYogoXDCgmJAQN0SQGBSVgyKKiEwQmRHC\n4rC6EeR7/6gaaJo+25yp0z1n3q/nOc/pqvpV1bfqdPen61d1qlNVSJK0rm007AIkSfOTASNJ6oQB\nI0nqhAEjSeqEASNJ6oQBI0nqhAEzzyVZkOSBJEvmeL2fSfLKDpe/Ksl+azHfgUluXst1npTkrLWZ\nV91Ksm+S65M8YRptz01y/ByUtcEzYEZMGwZrfh5O8uOe4Rm/YVfVz6pqy6q6ZZZ1XZHkNTNY78FV\n9eHZrFOC6QVCVX0BOAN4Z8e1rNUHmw2VATNi2jDYsqq2BG4BXtwz7nFv2EkWzn2Vs7M+1jxfTGff\nJ1kwF7VMx0xqqapTgBVJNu+wpLWWZKMkG001bj6Ztxs2X7XdNB9Jcl6S+4FXJXlOki8luSfJbUne\nl2Tjtv3CJJVkaTu8WZKTk6xMcnuS05Ns1rP8lya5Jsl9SVYkOTjJu4HnAO9vj6Te27b91STjSe5N\n8pUk+/Qs55EjniRHJfl8W9dq4C0947+d5O4kn0qyeJLtfk2S7yW5K8mxfdM2SvLmJP/VTj8/yXbT\n3J9vSXJTkvuTXJfk0GnO97iutt5Pt+3f6bz20/f9Sb6Z5Jd72i5KcmGSO5N8N8kfT7Kuc5OcluTS\ndlmf691XSU5t131fkquSPLdn2uOeL5Ms/9NJfgj8WpJD2+fB/UluSfLWnvbL2ufUHyS5tf35swHr\nvKCdfzzJM3qmPy3Jf7TP128keeEktfwh8HLgze1z78IJ9tGpSVYBfwl8vncfTCbJDkk+2f4d7k7y\n70l2naDtecCTgE+1tbyuHb9vHn39XZPkf/fMc0WSE5NcCfwQWDLBuG2TfCjN63dVkhMyH4KnqvwZ\n0R/gZuDAvnEnAQ8CL6b5gLA58L+AfYCFwM8D3wGOadsvBApY2g6fClwIbAdsDXwSOLGd9lzgHuCA\ndtmLgae0064AXtNTx47AvcAR7TpeBfwA2K6/PXAU8BDwR8CCtuaXATcAT2nnPx74zwn2wzOAB4B9\ngU2B97XL26+d/gbgC8CuwGbAmcA5EyzrQODmnuHfAXZpt/cV7Xp+boJ5TwLOGrScdtyqnppOAn4M\nPL/d5vcAV7TTFgDXAG8GNgGWtX/rAyZY77ntvl6z/acBl/dMfzWwfbsf/xz4PrDpRM+XCZZ/N82H\niI3adewPPL0d3gu4C3hR235Z+5w6B3hCO/0Hfdv+P8BLgI2BY4EVbX2bAN8F3thOO7Dd58smqeVc\n4PgpXisT7oMJtvf49vFObZ2b07we/gX42CTreeRv3A4vbrf9+W29h7T7aoee18HNwB7t9i6cYNzH\ngdPb/flE4GrgyGG/B836PWzYBfgzyR9n4oC5bIr53gBc0D5+JGDaF8BPgCf3tP014Mb28ZnAeyZY\nZn/A/B7wxb42VwGv6m9PEzA39bW9BFjeM7wQ+Cmw64B1nwCc2zO8JfCznje0G4Ff75m+uF3WRgOW\n9bhg6Jv+TeCFE0ybacB8umfaM4EH2sf7DtgfbwX+cYL1ntu3/dsADwO7DGgb4H7gaTN4vpwLfHCK\nNqeueW7waMAs65l+MvAPPeu8omfaAuAOmtB4Hs2bf3qmXwC8ZaJamEbATLYPJtjegcsDxoA7J1l2\nf8AcB3yor82lwCt7XgdvG/BaelvP8K40H0Y27Rn3auCS6W7zqP7YF75+Wtk7kOSpwN8Az6b5BLQQ\n+PKA+Z5I84nw60kemb1n+mKakJiOJwHf6xv3PZoXy5Q1A08GTkvytz3jHgYW0bwB9a/rkfmr6oG2\nq22NJcC/J3m4Z1wBOwP/PdlGtN14f9bWA0147TjZPDPQu+4fAVu0j59M0y1yT8/0BcDlkyyrd/vv\nTXIvzX65Lckbgd+nORKrdj07Dpp3OssHSPIcmu6mp9EcdWwKnDfJPN+jCd1B9f4syffbejcDbqn2\nXbRn3l0HzTtd09gHE823BfC3wMHAtu3orWaw6icDRyR5Sc+4jYFP9wwP2p7ecU+m2b+397wuN6L5\ngLleW//7+DZM/bfA/geaT97Lqmpr4G08NjjWuJ2mu+QpVbVt+7NNVW3TTl8J/MI013krj74pr7GE\nx4fDRPOvpOkC2LbnZ/OqGhSMt9GEHwBJtqTpDlljFXBQ37I2q6qpwuXngb+n6brboaq2Bb7N4H3X\n74c0Yb5mWQuBHaYxHzTbfmNfvVtV1Ysnmad3+7ehOYq5NcnzgNcBv0XzBrkdTZdT7zZM55bp/W3O\nB/4ZWNw+Pz7A4/dL7zmzJTTPiUH1bkQTILe2P4vT807K4583/bVMWv8098FE3gjsBuzdvnb2n6L9\noOfxh/r+lltU1XumqL933EqaDyDb9yxj66p65jTqH2kGzPywFU0f/Q+T7EFzYvRxqupnNG8U702y\nUxqLkhzcNjkTOCrJ89KcOF+U5CnttNtpzu+s8XHgaUlenuZCglfQdJ18cpo1vx84rq2X9iTnyyZo\newFwWJqLGTal6YLpfYG+H/iLtP/rk2TnTO9k/Zbtcu5sZstRwFOnWf+3ga2SPD/NBRVvp/nkOh1X\nAg8meX2aiy4WJHlGkmdPMs+L+7b/iqq6jeZv/xBNv//GNOeytphwKdO3FbC6qn6S5FeAwwe0eWuS\nzdsT+MuBj/RM2zvJYe2+eQNNl9VVwBfbel+fZOMk+wO/AXx0klr6n3uDal3bfbAVzZv73Ul2oPlw\nNpn+Ws4BXpLkoPbvuFn7+nnSNNdPVa0E/gP46yRbt6+9Zb0XC6yvDJj54fU0L/D7aY5mPjJF2+8B\nX6EJpc8AuwNU1ReBP6A5iX4v8Dke/ST6XpqugHuSnFxVdwKH0pxQ/QFNN9OLqqq362pCVXUBTb/9\nBUnuA66lOVE6qO21wJ/SvAl9n6brqffo5GSaLolL01wp9UWaCx+mquHadlu/QnOU9FQGdy0Omvdu\n4E+As9uaVjNFd1zPvA/RvKnuTdMNchfN323rSWY7lyZY7qI5n/Pqdvwngc/SnIe6Gbiv3ZbZ+iPg\nL9v9+WYGB8AVwE00z6G/rKrLeqZdSHPhx2qaq8BeWlUPVdVPaS44OKzdlvcBr6iq70xSyweAvdqr\nvD42YPps9sHJNEeDP6B53nxqivZ/AbyjfR28tqpuprlI4K00H1RuoXmNzfS99VU0ofgtmoscLqDp\n0l6v5bFdoZpvkmzCoyfPb52qvUZPknOBFVV1/LBrgeYyZZouvoFdUElOAhZV1WvmtDCNHI9g5r+n\n03QB3DHsQiRtWAyYeSzJy2m6L97YdstI0pyxi0yS1AmPYCRJndig/9Fyxx13rKVLlw67DElar1x9\n9dV3VdVOU7XboANm6dKljI+PD7sMSVqvJOm/i8dAdpFJkjphwEiSOmHASJI6YcBIkjphwEiSOmHA\nSJI6YcBIkjphwEiSOmHASJI6YcBIkjphwEiSOmHASJI6YcBIkjphwEiSOmHASJI6YcBIkjphwEiS\nOmHASJI6YcBIkjphwEiSOmHASJI6YcBIkjphwEiSOmHASJI6YcBIkjoxUgGT5JAkNyRZkeTYAdM3\nTfKRdvqXkyztm74kyQNJ3jBXNUuSBhuZgEmyADgNeAGwJ3BEkj37mh0J3F1Vy4BTgHf3TT8F+FTX\ntUqSpjYyAQPsDayoqpuq6kHgfOCwvjaHAWe3jz8GHJAkAEl+E7gJuG6O6pUkTWKUAmZXYGXP8Kp2\n3MA2VfUQcC+wQ5ItgD8H3jHVSpIcnWQ8yfidd965TgqXJD3eKAVMBoyrabZ5B3BKVT0w1Uqq6oyq\nGquqsZ122mktypQkTcfCYRfQYxWwuGd4EXDrBG1WJVkIbAOsBvYBXpbkr4BtgYeT/KSqTu2+bEnS\nIKMUMFcBuyfZDfg+cDjwir42FwHLgSuBlwGXVVUBv7amQZLjgQcMF0karpEJmKp6KMkxwMXAAuCD\nVXVdkhOA8aq6CDgTOCfJCpojl8OHV7EkaTJpDgA2TGNjYzU+Pj7sMiRpvZLk6qoam6rdKJ3klyTN\nIwaMJKkTBowkqRMGjCSpEwaMJKkTBowkqRMGjCSpEwaMJKkTBowkqRMGjCSpEwaMJKkTBowkqRMG\njCSpEwaMJKkTBowkqRMGjCSpEwaMJKkTBowkqRMGjCSpEwaMJKkTBowkqRMGjCSpEwaMJKkTBowk\nqRMGjCSpEwaMJKkTBowkqRMGjCSpEwaMJKkTBowkqRMjFTBJDklyQ5IVSY4dMH3TJB9pp385ydJ2\n/EFJrk7yjfb3/nNduyTpsUYmYJIsAE4DXgDsCRyRZM++ZkcCd1fVMuAU4N3t+LuAF1fVM4DlwDlz\nU7UkaSIjEzDA3sCKqrqpqh4EzgcO62tzGHB2+/hjwAFJUlVfq6pb2/HXAZsl2XROqpYkDTRKAbMr\nsLJneFU7bmCbqnoIuBfYoa/NbwFfq6qfdlSnJGkaFg67gB4ZMK5m0ibJ02i6zQ6ecCXJ0cDRAEuW\nLJl5lZKkaRmlI5hVwOKe4UXArRO1SbIQ2AZY3Q4vAi4Efreq/muilVTVGVU1VlVjO+200zosX5LU\na5QC5ipg9yS7JdkEOBy4qK/NRTQn8QFeBlxWVZVkW+ATwJuq6gtzVrEkaUIjEzDtOZVjgIuB64GP\nVtV1SU5Icmjb7ExghyQrgNcBay5lPgZYBrw1yTXtz85zvAmSpB6p6j/NseEYGxur8fHxYZchSeuV\nJFdX1dhU7UbmCEaSNL8YMJKkThgwkqROGDCSpE4YMJKkThgwkqROGDCSpE4YMJKkThgwkqROGDCS\npE4YMJKkThgwkqROGDCSpE4YMJKkThgwkqROGDCSpE4YMJKkThgwkqROGDCSpE4YMJKkThgwkqRO\nGDCSpE4snGxikvtmuLwC9qqqm9e6IknSvDBpwABbAq8F7p3GsgKcjkdFkiSmDhiA86vqjuksLMnf\nzbIeSdI8MWnAVNWMjkaqaqvZlSNJmi/szpIkdWI6XWSPSPJE4LnAzvSFU1Wdvg7rkiSt56YdMEle\nBXyA5mT+3TRXjK1RNCf4JUkCZnYE807gr4ATquqhjuqRJM0TMzkHszVwluEiSZqOmQTMh4EXdlUI\nQJJDktyQZEWSYwdM3zTJR9rpX06ytGfam9rxNyR5fpd1SpKmNpMustcB/5rkAOAbwP/0TqyqE2ZT\nSJIFwGnAQcAq4KokF1XVt3qaHQncXVXLkhwOvBt4eZI9gcOBpwFPAj6b5Ber6mezqUmStPZmEjB/\nCBwC3AUs4/En+WcVMMDewIqqugkgyfnAYUBvwBwGHN8+/hhwapK048+vqp8C302yol3elbOsaaAj\nzvgSV970gy4WLUlz4uZ3ddohBcwsYN4KvL6qTumoll2BlT3Dq4B9JmpTVQ8luRfYoR3/pb55dx20\nkiRHA0cDLFmyZK0KvfqWu9dqPknakMwkYBYAF3VVCM3lz/1qmm2mM28zsuoM4AyAsbGxgW2m8p2T\nXrA2s0nSBmUmJ/k/BLyyq0JojjoW9wwvAm6dqE2ShcA2wOppzitJmkMzOYJ5AnBUe4XWtTz+JP//\nnWUtVwG7J9kN+D7NSftX9LW5CFhOc27lZcBlVVVJLgL+KcnJNCf5dwe+Mst6JEmzMJOA2QP4Wvv4\nqX3T1qqr6TELaM6pHANcTNMd98Gqui7JCcB4VV0EnAmc057EX00TQrTtPkpzQcBDwB97BZkkDVeq\nZp0N662xsbEaHx8fdhmStF5JcnVVjU3VzrspS5I6MWnAJDk9yZbTXViSk5PsMPuyJEnru6mOYP4Q\n2HwGyzuK5souSdIGbqqT/AFuSjLdEzVbzLIeSdI8MVXA/N5aLPP2tSlEkjS/TBowVXX2msdJLgM+\nV1Un9rZJsh3wz1W1fzclSpLWRzP5P5j9gL2SPBP43ar6cTt+E+DX13VhkqT120wvUz4I2A24Isku\nHdQjSZonZhowq4BfBVYA40meve5LkiTNBzMJmAKoqp9U1ctp7kh8OfA7HdQlSVrPzeQczGNuiV9V\n70hyHXDWOq1IkjQvzCRgnkdzg8lHVNXHklwPTHlPGknShmXaAVNV/zHB+OuA69ZZRZKkecGbXUqS\nOmHASJI6YcBIkjphwEiSOmHASJI6YcBIkjphwEiSOmHASJI6YcBIkjphwEiSOmHASJI6YcBIkjph\nwEiSOmHASJI6YcBIkjphwEiSOmHASJI6MRIBk2T7JJckubH9vd0E7Za3bW5Msrwd94Qkn0jy7STX\nJXnX3FYvSRpkJAIGOBa4tKp2By5thx8jyfbA24F9gL2Bt/cE0V9X1VOBXwL2TfKCuSlbkjSRUQmY\nw4Cz28dnA785oM3zgUuqanVV3Q1cAhxSVT+qqs8BVNWDwFeBRXNQsyRpEqMSMD9XVbcBtL93HtBm\nV2Blz/CqdtwjkmwLvJjmKEiSNEQL52pFST4LPHHApOOmu4gB46pn+QuB84D3VdVNk9RxNHA0wJIl\nS6a5aknSTM1ZwFTVgRNNS3J7kl2q6rYkuwB3DGi2CtivZ3gRcHnP8BnAjVX13inqOKNty9jYWE3W\nVpK09kali+wiYHn7eDnwbwPaXAwcnGS79uT+we04kpwEbAO8dg5qlSRNw6gEzLuAg5LcCBzUDpNk\nLMkHAKpqNXAicFX7c0JVrU6yiKabbU/gq0muSXLUMDZCkvSoVG24vURjY2M1Pj4+7DIkab2S5Oqq\nGpuq3agcwUiS5hkDRpLUCQNGktQJA0aS1AkDRpLUCQNGktQJA0aS1AkDRpLUCQNGktQJA0aS1AkD\nRpLUCQNGktQJA0aS1AkDRpLUCQNGktQJA0aS1AkDRpLUCQNGktQJA0aS1AkDRpLUCQNGktQJA0aS\n1AkDRpLUCQNGktQJA0aS1AkDRpLUCQNGktQJA0aS1AkDRpLUCQNGktQJA0aS1ImRCJgk2ye5JMmN\n7e/tJmi3vG1zY5LlA6ZflOSb3VcsSZrKSAQMcCxwaVXtDlzaDj9Gku2BtwP7AHsDb+8NoiQvBR6Y\nm3IlSVMZlYA5DDi7fXw28JsD2jwfuKSqVlfV3cAlwCEASbYEXgecNAe1SpKmYVQC5ueq6jaA9vfO\nA9rsCqzsGV7VjgM4Efgb4EdTrSjJ0UnGk4zfeeeds6takjShhXO1oiSfBZ44YNJx013EgHGV5FnA\nsqr6syRLp1pIVZ0BnAEwNjZW01y3JGmG5ixgqurAiaYluT3JLlV1W5JdgDsGNFsF7NczvAi4HHgO\n8OwkN9Nsz85JLq+q/ZAkDc2odJFdBKy5Kmw58G8D2lwMHJxku/bk/sHAxVX191X1pKpaCvwq8B3D\nRZKGb1QC5l3AQUluBA5qh0kyluQDAFW1muZcy1XtzwntOEnSCErVhnsaYmxsrMbHx4ddhiStV5Jc\nXVVjU7UblSMYSdI8Y8BIkjphwEiSOmHASJI6YcBIkjphwEiSOmHASJI6YcBIkjphwEiSOmHASJI6\nYcBIkjphwEiSOmHASJI6YcBIkjphwEiSOmHASJI6YcBIkjphwEiSOmHASJI6YcBIkjphwEiSOmHA\nSJI6YcBIkjphwEiSOpGqGnYNQ5PkTuB7kzTZEbhrjspZG9a39ka5NrC+2Rrl+ka5NphefU+uqp2m\nWtAGHTBTSTJeVWPDrmMi1rf2Rrk2sL7ZGuX6Rrk2WLf12UUmSeqEASNJ6oQBM7kzhl3AFKxv7Y1y\nbWB9szXK9Y1ybbAO6/McjCSpEx7BSJI6YcBIkjphwExTkjckqSQ7DruWXklOTHJtkmuSfCbJk4Zd\n0xpJ3pPk2219FybZdtg19Ury20muS/JwkpG5bDTJIUluSLIiybHDrqdXkg8muSPJN4ddS78ki5N8\nLsn17d/1T4ddU68kmyX5SpKvt/W9Y9g19UuyIMnXknx8XSzPgJmGJIuBg4Bbhl3LAO+pqmdW1bOA\njwNvG3ZBPS4Bnl5VzwS+A7xpyPX0+ybwUuDzwy5kjSQLgNOAFwB7Akck2XO4VT3GWcAhwy5iAg8B\nr6+qPYBfAf54xPbdT4H9q2ov4FnAIUl+Zcg19ftT4Pp1tTADZnpOAd4IjNwVEVV1X8/gFoxQjVX1\nmap6qB38ErBomPX0q6rrq+qGYdfRZ29gRVXdVFUPAucDhw25pkdU1eeB1cOuY5Cquq2qvto+vp/m\njXLX4Vb1qGo80A5u3P6MzOs1ySLghcAH1tUyDZgpJDkU+H5VfX3YtUwkyTuTrAReyWgdwfT6feBT\nwy5iPbArsLJneBUj9Ca5vkiyFPgl4MvDreSx2i6oa4A7gEuqapTqey/NB+mH19UCF66rBa3PknwW\neOKASccBbwYOntuKHmuy+qrq36rqOOC4JG8CjgHePiq1tW2Oo+m++PBc1bXGdOobMRkwbmQ+5a4P\nkmwJ/DPw2r4j/KGrqp8Bz2rPR16Y5OlVNfTzWUleBNxRVVcn2W9dLdeAAarqwEHjkzwD2A34ehJo\nuni+mmTvqvrvYdc3wD8Bn2AOA2aq2pIsB14EHFBD+KerGey7UbEKWNwzvAi4dUi1rHeSbEwTLh+u\nqn8Zdj0Tqap7klxOcz5r6AED7AscmuQ3gM2ArZOcW1Wvms1C7SKbRFV9o6p2rqqlVbWU5sX/y3MZ\nLlNJsnvP4KHAt4dVS78khwB/DhxaVT8adj3riauA3ZPslmQT4HDgoiHXtF5I8ynwTOD6qjp52PX0\nS7LTmispk2wOHMiIvF6r6k1Vtah9nzscuGy24QIGzHzwriTfTHItTVfeKF2aeSqwFXBJexn1+4dd\nUK8kL0myCngO8IkkFw+7pvaiiGOAi2lOUn+0qq4bblWPSnIecCXwlCSrkhw57Jp67Au8Gti/fb5d\n034iHxW7AJ9rX6tX0ZyDWSeXA48qbxUjSeqERzCSpE4YMJKkThgwkqROGDCSpE4YMJK0gZjJzUqT\nLGlvHvq19oa1M74iz4CRhiDJ8e3duWu2d0xOsrRnWaPwT3saXWcx/ZuVvoXmMvlfovnfmNNnujID\nRhqeG2j+N+LvZrmcle1y/mbWFWleG3Sz0iS/kOTTSa5O8p9JnrqmObB1+3gb1uKOEt4qRhqeh9bF\nXSHa+1v9d5IHpmwsPd4ZwP+pqhuT7ENzpLI/cDzwmSR/QnOn9hnfdskjGKkDSX43yQ+SbNo3/sNJ\nJrz1S5Kbk7wtyVlJ7k+yMsnLk2yb5PwkDyS5MclQb8Cq+aG9MehzgQvauzz/A83RMMARwFlVtQj4\nDeCcJDPKDANG6sYFNK+vR77LJck2wEto7pc1mdcCXwF+GfgocDbNjUw/SfNFVZ8Hzk2y2bovWxuY\njYB7qupZPT97tNOOpHn+UVVX0twEc0bf6GvASB2oqh/TfD3B7/eMfgVwH80drydzcVWdXlU30twZ\ne1OaLyH7f1W1AjgR2Al4+rqvXBuS9usMvpvkt6G5YWiSvdrJtwAHtOP3oAmYO2eyfANG6s4/Age1\n3xQITdic3fMtnxO5ds2D9hsQfwR8o2f67e3vnddVodowTHCz0lcCRyb5OnAdjx51vx74g3b8ecBr\nZvqVG57klzpSVV9P8lXgNUn+FRgDpnML9P/pX1TfuDUvcj8gakaq6ogJJj3u0uWq+hbNHarXmgEj\ndesfab6GdkfgC1V1w5DrkeaMn4Ckbp1H85XNf8TUJ/elecWAkTpUVffTXInzYPtb2mDYRSZ1bxfg\n/Kr64VQN26+s7R+3Zd/wT4Css+qkjhgwUkeSbE/z388HA3sNaLJH+9/3b5vNd8gnWQJ8C9gE+M7a\nLkda1/zKZKkjSW4GtgfeWVXv7pu2fTsN4K6qumcW61kILG0Hf1pVK9d2WdK6ZMBIkjrhSX5JUicM\nGElSJwwYSVInDBhJUicMGElSJ/4/k28NARtoI/gAAAAASUVORK5CYII=\n",
      "text/plain": [
       "<matplotlib.figure.Figure at 0x7fdc6009fb00>"
      ]
     },
     "metadata": {},
     "output_type": "display_data"
    },
    {
     "data": {
      "image/png": "iVBORw0KGgoAAAANSUhEUgAAAYgAAAEaCAYAAAAL7cBuAAAABHNCSVQICAgIfAhkiAAAAAlwSFlz\nAAALEgAACxIB0t1+/AAAADl0RVh0U29mdHdhcmUAbWF0cGxvdGxpYiB2ZXJzaW9uIDIuMS4wLCBo\ndHRwOi8vbWF0cGxvdGxpYi5vcmcvpW3flQAAIABJREFUeJzt3Xd4HNXVwOHfUe+SVS3LluXeuzBu\ndFMCBgIhoRMChFTSP5IQAoQkpJCQAgFCIKGGGlpMMQYMxphiG/cmy03FVrXV62rP98esiZAlWbKt\nnV3rvM+zj3Z32tnVzpy5987cK6qKMcYY01GI2wEYY4wJTJYgjDHGdMoShDHGmE5ZgjDGGNMpSxDG\nGGM6ZQnCGGNMpyxBBDgRCRWROhHJ9vN23xCRy/tw/UUicvJhLDdfRHYd5jZ/JSIPH86ypm+JyFwR\n2SwiMT2Y93ERuc0PYfV7liCOMt/B/MDDKyKN7V73+oCrqm2qGqeqBUcY1zIRuboX2z1DVZ84km0a\nAz07oKvq+8ADwK/7OJbDOjHpryxBHGW+g3mcqsYBBcC57d476IArImH+j/LIBGPMx4qefPciEuqP\nWHqiN7Go6p+AfBGJ7sOQDpuIhIhIyKHeO5Ycsx8sUPmqOZ4WkSdFpBa4QkRmi8iHIlIlIntF5K8i\nEu6bP0xEVERyfK+jROQuESkUkVIRuVdEotqt/0IRWSMiNSKSLyJniMjvgNnA/b6SzJ99884TkZUi\nUi0iH4vI8e3W82mJQ0SuE5Glvrj2ATe3e3+LiOwXkddEZEg3n/tqEdktIhUi8pMO00JE5CYR2e6b\n/pSIDOjh93mziOwQkVoR2Sgi5/VwuYOqqtqfXfr+T0/6zn5rRWSDiExvN+9gEXlBRMpFZKeIfKub\nbT0uIn8Tkbd861rS/rsSkXt8264RkRUiMqfdtIN+L92s/3URqQdOEJHzfL+DWhEpEJGft5t/pO83\n9VUR2eN7fL+TbT7rW36liExqN32CiLzr+72uF5Fzuonla8DFwE2+394LXXxH94hIEfAbYGn776A7\nIpIiIq/6/g/7ReS/IpLVxbxPAoOA13yx/MD3/lz53/63RkRObLfMMhH5pYh8ANQD2V28lyQi/xJn\n/y0SkdvlWEgcqmqPPnoAu4D5Hd77FdACnIuToKOB44DjgTBgOJAHfNs3fxigQI7v9T3AC8AAIAF4\nFfilb9ocoAo4zbfuIcAY37RlwNXt4kgFqoFLfdu4AqgEBnScH7gO8ADfAEJ9MV8EbAXG+Ja/DXiv\ni+9hElAHzAUigb/61neyb/qPgPeBLCAKeAh4rIt1zQd2tXv9JSDT93kv820no4tlfwU83Nl6fO8V\ntYvpV0AjcKbvM98JLPNNCwXWADcBEcBI3//6tC62+7jvuz7w+f8GvNNu+pVAsu97/DFQDER29Xvp\nYv37cU4CQnzbOBWY6Hs9BagAFvjmH+n7TT0GxPimV3b47K3ABUA48BMg3xdfBLATuNE3bb7vOx/Z\nTSyPA7cdYl/p8jvo4vPe5nue5oszGmd/eB54rpvtfPo/9r0e4vvsZ/riPcv3XaW02w92AeN8nzes\ni/cWAvf6vs+BwCrgWrePQUd8DHM7gCP+APBPoAzY0IN5s4ElwGpgHXB2H8e2i84TxNuHWO5HwLO+\n558mCN8PuAkY2m7eE4BtvucPAXd2sc6OCeIrwPIO86wArug4P06C2NFh3sXAl9u9DgOagaxOtn07\n8Hi713FAG/87IG0DTmo3fYhvXSGdrOugA3uH6RuAc7qY1tsE8Xq7aZOBOt/zuZ18Hz8H/tHFdh/v\n8PkTAS+Q2cm8AtQCE3rxe3kc+Och5rnnwG+D/yWIke2m3wX8vd02l7WbFurbx2YDp+AcvKXd9GeB\nm7uKhR4kiO6+gy4+b6frA3KB8m7W3TFB/Az4V4d53gIub7cf3NLJvnRLu9dZOCcTke3euxJY3NPP\nHKiPY6Eu+WGcH/+jPZj3ZuAZVb1PRMbjnH3n9F1oXSps/0JExgJ/BGbgnIGEAR91stxAnDOytSLy\n6eLtpg/BOcj3xCBgd4f3duP82A8ZMzAU+JuI/KXde15gMM4BpOO2Pl1eVet8VVUHZAP/FRFvu/cU\nSAdKuvsQvmqw7/viASf5pHa3TC+033YDEOt7PhSnWqGq3fRQ4J1u1tX+81eLSDXO97JXRG4ErsEp\nCalvO6mdLduT9QOIyGyc6poJOGf9kcCT3SyzGydpdhZvm4gU++KNAgrUdxRst2xWZ8v2VA++g66W\niwX+ApwBJPneju/FpocCl4rIBe3eCwdeb/e6s8/T/r2hON9vabv9MgTnBDGoBX0dmaouBdofbBCR\nEb460FUi8p7vAAzODy/B9zwR2OPHUNvr2IXu33HOfEeqagJwC5898B9QilPdMEZVk3yPRFVN9E0v\nBEb0cJt7+N9B9YBsDj64d7V8IU4ROqndI1pVO0tse3GSFwAiEodTnXBAEXB6h3VFqeqhksNw4D6c\nqq8UVU0CttD5d9dRPU4yPrCuMCClB8uB89m3dYg3XlXP7WaZ9p8/Ed/vT0ROAX4AfAHnADcAp8qm\n/WfoSZfLHed5CvgPMMT3+3iQg7+X9m1G2Xx2f2gfbwhOAtjjewyRdkdCDv7ddIyl2/h7+B105UZg\nGDDTt++ceoj5O/sd/6vD/zJWVe88RPzt3yvEOYFIbreOBFWd3IP4A1rQJ4guPADcoKozcKpr7vW9\nfxtOo3ARTunhBnfCO0g8Th11vYiMw2nYO4iqtuHs6H8WkTRxDBaRM3yzPARcJyKniNPwO1hExvim\nleK0bxywEJggIheL0xB+GU7Vw6s9jPl+4Ge+ePE10l3UxbzPAueL0xgfiVOF0X4Hux+4Q3z3eohI\nuvSssTnOt55yZzG5Dhjb/SKf2gLEi8iZ4lwQcCvOmWNPfAC0iMgPxbloIFREJonIjG6WObfD51+m\nqntx/vcenHrvcJzfaGyXa+m5eGCfqjaJyCzgkk7m+bmIRPsaoL8MPN1u2kwROd/33fwIp8pnBbDc\nF+8PRSRcRE4Fzgae6SaWjr+9zmI93O8gHufgvF9EUnBOrrrTMZbHgAtE5HTf/zHKt/8M6uH2UdVC\n4F3gDyKS4Nv3RrZv7A5Wx1yC8J2dzgGeFZE1OGfnmb7Jl+LUQQ/G+VE/FiBXGvwQZwetxYn36UPM\nuxv4GCepvAGMAlDV5cBXcRqBq3HaWw6cCf4ZpyhdJSJ3qWo5cB5Og2AlTjXNAlX9TGmsK6r6LE69\n9bMiUoPTpnNmF/OuA76LcxApxqm6aV86uAunSP+WOFfqLMdpuD9UDOt8n/VjnFLKWDqvmuts2f04\nJwiP+GLaxyGqs9ot68H5/czEqUaowPm/JXSz2OM4iaECpz3jSt/7rwJv4rTD7AJqfJ/lSH0D+I3v\n+7yJzg/gy4AdOL+h36jq2+2mvYBz4cI+nKuQLlRVj6o24zSYn+/7LH8FLlPVvG5ieRCY4rvK6LlO\nph/Jd3AXTmmsEud389oh5r8D+IVvP/iequ7CaeT+Oc6JRgHOPtbb48IVOEltE04j/bM4VcJBTT5b\nlRicxLkEdKGqThSRBGCrqmZ2Mt9G4CxfxkdEdgCzVLXMn/H2hohE8L/GX7eqxMwREJHHgXxVvc3t\nWMC5zBWniqzTKhwR+RUwWFWv9mtgJuAEwtnzUaWqNcBOEfkiOPUOIjLFN7kA5xJQfFUjUThnDYFs\nIk4ROmCTmDHm2BT0CUKcm18+AMb4blC5FrgcuFZE1gIbcYrD4BQdv+p7/0mcyzgDtgglIhfjFP9v\n9FVrGGOM3xwTVUzGGGOOvqAvQRhjjOkbQX2jXGpqqubk5LgdhjHGBJVVq1ZVqGraoeYL6gSRk5PD\nypUr3Q7DGGOCioh07EWhU1bFZIwxplMBlyB8dzOuFpGFbsdijDH9WcAlCJw7bje7HYQxxvR3AZUg\nRGQwcA7OrfnGGGNcFFAJAqe/oBtxuo3ulIhcL84IVyvLywP9JmhjjAleAZMgRGQBUKaqq7qbT1Uf\nUNVcVc1NSzvkVVrGGGMOU8AkCJxRus4TZ5zgp4BTfZ2cGWOMcUHA3Aehqj8FfgogzsDxP1LVgwZo\nN8ZfPG1eqhtbqW5spbbJQ1NrG42tbTS1emn2tDmvW9poafPiVfCqor5hfL2K8xwlPDSEiNAQwkOF\niLBQ31/nvZjIMOIiw4iPch5xkWHERoQREtKTsXKM6VsBkyCM6WuqSk2jh9LaJspqmimrbaKstpnS\nGufvvrqWTxNCdWMrdc3u9Y8YFxlGYnQ4qXERpMZFkhIXQUpcJCmxzuv0+EgGJUWTmRRFZFioa3Ga\nY1tAJghVfYfux/c1plMNLR4K9jVQUNlA4f5GCvc1OI/9DRTua6Sxte2gZeIiw0iPdw7Cg5KiGJeZ\nQGJ0uO8RRmJMOPGR4URHhBIVHkJUeOinj+jwUCLCQggVQQREIEQEwfkL4PEqLW1eWj1eWtq8tHi8\ntLY5z+ub26hr9lDb1Epdk4e6Zg81Tc7r6oZWKupbKKlpYuOeGirrm2ltO7hzzbT4SLKSoslKimZQ\nUhRDkmMYlhrLsNRYBiVGW2nEHLaATBDGHEp1Qyv55bXkl9WxrbSO/HLnb3FV42fmi4sMY/CAaHJS\nYjlhVBqZiVFkJESRHh9Juu9vbGTf7gYRIU6VEpFHtp4DJaCK+mZKq5sormpkT1UTxVUN7KlqYtPe\nGhZvLqXF87+LACPDQhiWGsvwtFiGp8YxIj2WsQMTGJkeR3hoIDVBmkBkCcIENFWlpKaJDcU1bCiu\nZuOeajbuqWFvddOn80SGhTAiLY4ZQwdwyXFDyEmNJTs5hiHJMQyICUfk2DiDFhESY8JJjAlnRFpc\np/OoKmW1zewor2dHRR07y+vZUVHP5r21LNpYSpvXKYGEhwoj0+MZlxnP+MwExmUmMGFQAkkxEf78\nSCbAWYIwAaWmqZXVBVWs2rWPNUXVbCyuprK+BXCqb0akxXH8sGTGZiYwKj2OUenxZA2IJtSqUQAn\niWQkOKWk2SNSPjOtxeNlV2U9m/fWsGlvDZv31vLetgqe/6T403mGpcYydUgS07KTmDokibEDE5zS\nj+mXgnrAoNzcXLXeXIOXqlK4r5GVu/excvd+Ptm9n62ltahCiMDojHgmZSUyMSuRiVnOWW5MhJ3T\nHG0Vdc1s3lvD+uJq1hRUsbqwivLaZgAiwkKYlJVIbs4AZg1P4bicZOL6uErO9D0RWaWquYeczxKE\n8aey2iY+2F7Jsm0VLN9e+WmbQXxkGFOzk8gdmkxuzgCmDEmyA5FLVJU91U2sLtj/acJYV1RFa5sS\nGiJMzEpk1vBkSxhBzBKECQhNrW18sL2SpdvKeT+/grzSOgASo8OZPTyFOSOdg8zojHirJgpgjS1t\nfFKwnw93VPLhjkrWFDoJIyxEmD50ACePSeOUMemMHRh/zLT5HMssQRjXlNY08faWMt7aXMqy/Aqa\nWr1EhoUwc1gyc0akMndkChMGJVpCCGIHEsay/Are3VrOpr01AAxMiOKk0WmcPCaNeaNSiY8KdzlS\n0xlLEMav8kpreW19CW9uLmV9cTUAWUnRzB+XzqnjMjh+WDJR4XZD17GqtKaJd7eW805eGe/lVVDb\n7CEiNIQTRqVy5sSBnD4ugwGxdoVUoLAEYfpcflktr6wr4ZX1e8grrUMEpmcP4NSx6cwfl8HojDir\nbuiHWtu8rNq9nzc2lrJoYwnFVY2Ehgizh6dw1sSBnDEhg/T4KLfD7NcsQZg+UVDZwEtrinll/V62\nlNQiAjNzkjlnciZnTRxoO775DFVlfXE1r28o4fUNJeyoqCdEYO7IVC6cnsUZ4wf2+Y2K5mCWIMxR\nU9fs4dX1e3luVREf79yHCBw31EkKn5s4kPQESwrm0FSVvNI6Fq7bwwuriyna30hMRChnThjI56dl\nMXdECmF2d7dfWIIwR8TrVT7cUclzq4p4bUMJja1tDEuN5aIZg7lgWhaDkqLdDtEEMa9XWVWwnxdW\nF7Nw7R5qmjykx0fyxdzBXHJcNkOSY9wO8ZhmCcIcluqGVp5dVcgTHxWws6Ke+KgwFkwexEUzBjM9\nO8naFMxR1+xpY8mWcp5dWciSrWUocMKoNC6bmc1p49Ktz6g+YAnC9Mr6omoe+3AXL6/dQ1Orl9yh\nA7hi1lDOmjjQrj4yfrOnqpGnVxTy9IpCSmqaSIuP5JLjhnDFrKFkWFXmUWMJwhySp83L6xtLePC9\nnawprCImIpTPT8viiuOHMn5QgtvhmX7M0+blna3l/PvjApZsLSMsRDh38iCumTeMiVmJbocX9CxB\nmC41tHh4dmURDy7bQeG+RoalxvLl2UO5cMZgEuzGJhNgdlXU8/DyXTyzspCGljZmDU/munnDOXVs\nuo11cZgsQZiDVNY188jyXTz64W6qGlqZMXQA1584nNPHZdiOZgJedWMrT31cwCPLd7GnuokRabF8\n+9SRnDt5kF391EtBlyBEJApYijOsShjwnKre2t0yliB6pqKumX8s3cGjH+ymydPG6eMy+NpJw5kx\nNNnt0IzptdY2L69tKOHeJflsKallaEoM3zp5JJ+flmVdk/dQMCYIAWJVtU5EwoFlwHdV9cOulrEE\n0b32iaHZ08b5U7P41ikjGZne+WAzxgQTr1dZvLmUu9/exobiGrKSovnGySP4Uu4QSxSH0NMEETC3\nMKqTqep8L8N9j8DIXkGmuqGVe9/N59Hl/0sM3z51ZJejkBkTjEJChDMnDOSM8Rm8s7Wcv769jZtf\n3MADS3fwwzNGc+7kQVZ1eoQCpgQBICKhwCpgJPA3Vf1xJ/NcD1wPkJ2dPWP37t3+DTKANXvaeOyD\n3dz9dj41Ta2cN2UQN5w6ykoMpl9QVd7JK+f3r29l894axmUmcONZYzh5dJrdv9NB0FUxtSciScAL\nwA2quqGr+ayKyeH1Kv9dt4c7F22laH8jJ45O46efG8u4TLtU1fQ/B/aHP76RR8G+Bo4flszN54xn\n0mC7PPaAoE4QACJyK1Cvqn/oah5LEPBJwX5+8fJG1hZVMz4zgZ+ePZYTRqW5HZYxrmvxeHlqRQF/\nfWsblfUtXHLcEH50xhhS4iLdDs11QdcGISJpQKuqVolINDAf+J3LYQWsyrpmfvf6Fp5ZWURGQiR/\n/OIULpiWZXWuxvhEhIVw1ewcPj8ti7++uY2Hl+9i4bq9fH/+aK6cPdS68OiBgClBiMhk4BEgFAgB\nnlHV27tbpj+WINq8yr8/2s2di7bS0NLGtfOGccNpo2xcYGMOIb+sjtsXbmJpXjmj0uP45ecnMmt4\nitthuSLoq5h6or8liI17qvnxf9axobiGOSNSuP38CYxMj3c7LGOChqry1uYyfrFwI4X7Grl05hB+\n8rlxJEb3rx4Egq6KyXSt2dPG3W/lc/+72xkQG8Hdl05jweRMuzLDmF4SEeaPz2DuyFT+/GYe/3hv\nB29uLuMX503gcxMH2j7VgZUgAtwnBfu58bl15JfVcdGMwfz8nPEkxvSvsx1j+sqGYqdUvnFPDaeP\nz+DXF0zsF6MiWhVTkGv2tHHXG3k88N4OMhOiuOPCSZw8Jt3tsIw55njavDy0bCd3Lc4jNjKM31w4\niTMnDHQ7rD7V0wRhzfgBKL+slgv+tpy/L93BpTOzWfT9Ey05GNNHwkJD+NpJI1h4wzwyE6P42mOr\n+L9n11Lb1Op2aK6zNogAoqo8/lEBv1q4idjIMB68Kpf54zPcDsuYfmFURjwvfHMuf31rG/e+k88H\nOyr5yyVT+3WnllaCCBBVDS189dFV/PzFDcwclszr3z3BkoMxfhYRFsKPzhzDs1+fTYgIX/r7h/xj\n6Q6CuSr+SFiCCAAbiqtZcPcy3s0r4+cLxvPIV2aSbsMrGuOaGUOTWfideZw+LoNfv7qZ6x9bRXVj\n/6tysgThsmdWFHLhfctp8yrPfG02184bZndDGxMAEqLCue+K6dyyYDxLtpSx4O73WF9U7XZYfmUJ\nwiXNnjZ+8p913PifdczMSWbhDfOYlj3A7bCMMe2ICNfMG8YzX59NW5ty0f3LeWlNsdth+Y0lCBdU\n1jVz+T8+4qkVhXzrlBE8cs1M60DMmAA2PXsAC79zAlOGJPHdp9bwh0Vb8XqP/XYJSxB+ll9WxwX3\nLmd9cTX3XDaN/ztzLKFWpWRMwEuOjeDxa4/nkuOGcM+SfL7++Crqmz1uh9WnLEH40bJtFVxw7/s0\ntHh46vpZLJg8yO2QjDG9EBEWwm8unMQtC8bz5uZSLrr/A8pqmtwOq89YgvCTF1cXc/W/PiYzMYoX\nvjnX2huMCVIH2iX+efVx7K6s58L7lrOzot7tsPqEJQg/ePj9nXzv6TXk5gzguW/MYUhyjNshGWOO\n0Mlj0nnyq7NoaGnjovuWs66oyu2QjjpLEH1IVfnzm3nc9t9NnD4+g4e/MpOEKOtoz5hjxZQhSTz3\n9dlER4RyyQMfsmxbhdshHVWWIPqIqvLLhZv585vbuGjGYO67fDpR4aFuh2WMOcqGp8Xx/DfmkJ0c\nwzWPrODdvHK3QzpqAiZBiMgQEVkiIptFZKOIfNftmA6XqnL7wk388/2dfGVuDr//wmTCbHhDY45Z\n6QlRPPnVWYxMi+Orj65kydYyt0M6KgLpqOUBfqiq44BZwLdEZLzLMfWaqvLrVzbzr/d38ZW5Odyy\nYLzdGW1MPzAgNoJ/f/V4RqXH8bVHV7FkS/AniYBJEKq6V1U/8T2vBTYDWe5G1Tuqym9f38KDy3by\n5dlDuWXBeBuhyph+JCkmgieuO54xA+P52mOrgr5NImASRHsikgNMAz7qZNr1IrJSRFaWlwdWXd+9\n72zn7+/u4IpZ2dx23gRLDsb0Q0kxzg11w9Niuf6xlawtDN6rmwIuQYhIHPAf4HuqWtNxuqo+oKq5\nqpqblpbm/wC78MzKQu5ctJXPTx3E7edNtORgTD+WGBPu60Ingqv/9TH5ZXVuh3RYAipBiEg4TnJ4\nQlWfdzuennp7Syk/fX49J4xK5fcXTbE2B2MMGQlRPHbN8YSGhHDVQx+xt7rR7ZB6LWAShDin3A8B\nm1X1Lrfj6am1hVV884lPGJ+ZwH1XzCAiLGC+UmOMy3JSY3nkmuOoafJw3SMraWgJrr6bAuloNhe4\nEjhVRNb4Hme7HVR3ymqauP6xlaTGRfLPq48jLtJGcDXGfNaEQYncfek0Nu+t4QdPrw2qXmADJkGo\n6jJVFVWdrKpTfY9X3Y6rK02tbVz/2Cpqmzz846pc0uKtu25jTOdOGZvOTWeP4/WNJdy1OM/tcHrM\nTnkPg6py0wvrWVNYxf1XTGdcZoLbIRljAty184aRX1bHPUvyGZsZHxS9OQdMCSKYPP5RAc9/Usx3\nTxvFWRMz3Q7HGBMERITbz5/I9OwkfvKf9UHRA6wliF7atKeGXy7cxImj0/juaaPcDscYE0QiwkK4\n57LphIUK33ziE5pa29wOqVuWIHqhvtnDt5/8hKTocO76kl3OaozpvUFJ0fzpS1PZvLeGX/x3k9vh\ndMsSRC/c+vJGdlbU8+dLppJqY0gbYw7TKWPT+cbJI3jy4wLe2FjidjhdsgTRQ4s3lfLcqiK+fcpI\n5oxIdTscY0yQ+/780UwYlMBNL6ynsq7Z7XA6ZQmiB6oaWrjphfWMy0zghlOt3cEYc+QiwkL445em\nUNPo4eYXN6AaePdHWILogdsXbmJ/fQt/+OJku1PaGHPUjB2YwPdPH81rG0r477q9bodzEDvaHcI7\nW8t4/pNivnnKSCYMSnQ7HGPMMeb6E4czZXAit/93E9WNrW6H8xmWILrR7Gnjtpc3Mjw1lm+fMtLt\ncIwxx6DQEOFXn59EZX0zfwqwu6wtQXTjwfd2squygdvOm2BVS8aYPjNpcCJXHD+URz/YxYbiarfD\n+ZQd9bqwp6qRe97O58wJGZw4OnDGnTDGHJt+dMYYkmMjuPXljQHTYG0Jogt/fCOPNlVuPifohsU2\nxgShxJhwfnD6GFbt3s/iTaVuhwNYgujUttJaXlhdxJdnD2VIcozb4Rhj+okv5Q5meGosdy7aiqfN\n63Y4liA6c9fiPKLDQ/nGydYwbYzxn7DQEP7vzDFsK6vj+U+K3Q7HEkRH64uqeW1DCdedMJzk2Ai3\nwzHG9DNnTRzIlCFJ/OWtbbS6XIqwBNHBve/kkxAVxnUnDHM7FGNMPyQi3HDKSIqrGnnF5ZvnAipB\niMg/RaRMRDa4sf1dFfW8vrGEK2YNJT4q3I0QjDGGU8emMzojjvve2e7qEKUBlSCAh4Gz3Nr4g8t2\nEB4SwtVzctwKwRhjCAkRvnHyCLaW1rJka5l7cbi25U6o6lJgnxvb3l/fwrMri7hgWhbpCVFuhGCM\nMZ9aMHkQmYlRPLx8l2sxBFSC6AkRuV5EVorIyvLy8qO23udXF9Ps8XL13Jyjtk5jjDlc4aEhXHJc\nNu9tq6CgssGVGIIuQajqA6qaq6q5aWlH5w5nVeXpFQVMGZLEuMyEo7JOY4w5UhcfN4TQEOHfHxe4\nsv2gSxB94ZOCKvJK67j0uCFuh2KMMZ8amBjFqWPTeXZloSuXvFqCAJ5bVURMRCgLpgxyOxRjjPmM\nL84YTGV9C+/nV/h92wGVIETkSeADYIyIFInItX29TU+bl0UbSzhtXAZxkWF9vTljjOmVk8akER8V\nxkIX7okIqAShqpeqaqaqhqvqYFV9qK+3+dHOfeyrb+GcSQP7elPGGNNrkWGhnDF+IIs2ltDsafPr\ntgMqQbjh1fV7iQ4P5aTR6W6HYowxnVowJZPaJo/fq5n6dYJQVd7aXMbJY9KIjgh1OxxjjOnUnBEp\nRIeH8u7Wo3dpf0/06wSxvbyOkpomGxDIGBPQIsNCmTU8mXfzLEH4zbJtTnFt3shUlyMxxpjunTQ6\njV2VDeyurPfbNvt3gsivYGhKjA0KZIwJeCf4ajqWb6/02zb7bYJQVVbt3s/xw5LdDsUYYw5peGos\nSTHhrCmo8ts2+22CKNzXyP6GVqYMSXI7FGOMOSQRYeqQJFYX7vfbNru9M0xE1vVyfQqcraruj5V3\nCGuLnCw8ZbAlCGNMcJg2ZADv5pVT29TqlzFrDnXr8ETgj0BdD9YlwE+AyCMNyh/WF1cTERbC6Ix4\nt0MxxpgemTQ4AVXYUlLLcTkfRaFHAAAgAElEQVR9Xz3ek74l7lTVHo1YISI/PMJ4/GZ7WR3DU2OJ\nCOu3tWzGmCAzMs05od1eVueXBHGoo+MwoDcX3o4Hdh9+OP6zs6Ke4WmxbodhjDE9ljUgmsiwELaX\n96RS58h1myBUdbeq9nhAVFUtVFX/dhZyGFrbvBTsayAnxRKEMSZ4hIYIw1JjyS/zT4LoVfelIhKB\n0y6RTofkoqqvHsW4+tSeqkY8XrUEYYwJOkOSY/w2wlyPE4SInA48hpMcOlIgaDozKq9tBiA9ISja\n040x5lPp8ZGs3LXPL9vqTQvt34CFOO0SMUB0u0dQ3YpcUdcCQGqcJQhjTHBJj49if0MrLZ6+H2Gu\nNwkiE7jD1y7RpKrN7R99FWBfqKhzwk2LtwRhjAkuB2o+yuv6/rDbmwSxEJjTV4H4U3VjKwBJMX1/\no4kxxhxNB0a+bGj29Pm2etNI/XXgCRGZAWwAWttPVNVHjzQYETkL+AtOe8aDqvrbI11nZ5pb2xCB\niFC7B8IYE1yiw53m3sbWvr9gtDcJ4kzgNOBsoAGnYfoABY4oQYhIKE47x+lAEbBCRF5W1U1Hst7O\nNHu8RIaFICJHe9XGGNOnDgxu1tQaWG0QfwDuAeJVNU5V49s9Eo5CLDOBfFXdoaotwFPA+UdhvQd5\nePkuv3y5xhhztEX6en9o8kMJojcJIgm4X1X7arSKLKCw3esi33ufISLXi8hKEVlZXn54oys1+6H1\n3xhj+oLH61TehIX0fQ1IbxLEf4D5fRUITmd/HR10F7eqPqCquaqam5Z2eEOFfmVuzqcNPcYYE0w8\nbb4E4Yc21N4cJXcAvxaRE4F1HNxIfdcRxlIEDGn3ejCw5wjX2anYiDAaWjyoqrVDGGOCSqvXqQEJ\nC+37Y1dvEsQ1QC3Opa4dL3dV4EgTxApglIgMA4qBS4DLjnCdnYqJDMWrTlVTVHjQ3ABujDE0tTht\nD1FhfX/s6nGCUNVhfRmIqnpE5NvAIpzLXP+pqhv7YlsHqpfqmz2WIIwxQWV/g1N5kxwb0efbCqiK\neF+Hf33e6V9itHOD3L76FlKsuw1jTBDZ3+B0FeSPG327beUQkRtFJLqnKxOR74nI0bjktU8NTIgC\noKSmyeVIjDGmdyrrWoiNCPVL7cehmsF/A8T1Yn23A6mHH45/ZCY6OW9vtSUIY0xwKalpJMN3ktvX\nDlXFJMC7ItLTTj96XNpw04HOrkosQRhjgsyuigayU/zTgfahEsQvDmOd/umo/AhEhYeSmRjFzoq+\nuufPGGOOPlWlYF8DM4f1/XjUcIgEoaqfJggReRF4CHhFVYP+VuRRGfHklda6HYYxxvRYRV0Ldc0e\nspP9U4Loza149Tj9IxWJyB0iMrKPYvKLUelx5JfV0ebt8ZDbxhjjqs17awAYMzDeL9vrcYJQ1ctx\nBg36JU6XG3kislRErurNlU6BYkxGPM0eL7srrZrJGBMcNuypBmDioES/bK9XnXmoao2q3qeqM4FJ\nwCrg70CJiPxdRMb1RZB9YcqQJABWF1S5HIkxxvTMhuJqspNjSPTTYGeH1duTiAzC6Yp7AeABnsPp\nR2mdiPzo6IXXd0alxxEfGcaqgv1uh2KMMT2ytrCaSVn+KT1ALxKEiISLyEUi8iqwG/g88HsgU1Wv\nVdWzgcuBm/sm1KMrJESYNnQAn+y2BGGMCXyF+xoormrk+OH+uYIJeleC2ItTnbQdmKGqM1X1H6pa\n126exUDQHHFzhw5ga2kt++pb3A7FGGO6tXx7BQBzRqT4bZu9SRDfB7JU9QZVXdfZDKq6v6879Tua\nThqdhioszTu8gYeMMcZf3s+vJC0+khFpvenc4sj05iqmx1T1mLr1eFJWIimxESzZWuZ2KMYY0yVP\nm5dl+RXMHZHi1zFs+n5IogAWEiKcNCaNpXnldj+EMSZgrdi1n331LZw5YaBft9uvEwTAaWMz2N/Q\nykc7Kt0OxRhjOrVoYwmRYSGcNObwhlk+XP0+QZw6Np3YiFBeXtsno5saY8wR8XqVRRtLOHF0GjER\n/h3Cp98niOiIUM6YMJBX1++l2dPmdjjGGPMZH+6sZG91E+dMyvT7tgMiQYjIF0Vko4h4RSTX39s/\nb+ogapo8vLPVrmYyxgSWZ1cWER8VxlkT/dv+AAGSIIANwIXAUjc2Pm9kKunxkTz5cYEbmzfGmE7V\nNLXy6vq9nDdlkF9GkOsoIBKEqm5W1a1ubT88NIRLZ2bzbl65dd5njAkYL63ZQ7PHy5dyh7iy/YBI\nEL0hIteLyEoRWVlefvSqhC47PpsQEZ74yEoRxhj3eb3Kv97fyaSsRCYP9l//S+35LUGIyJsisqGT\nx/m9WY+qPqCquaqam5Z29C75ykiI4swJGTy9opD65p6OsGqMMX1jydYydpTXc90Jw/x6c1x7frtm\nSlXn+2tbh+u6E4bz6voS/v1RAV89cbjb4Rhj+rEH39tJZmIUZ7tw9dIBQVfF1JemZw9gzogUHnhv\nB02tdsmrMcYdqwv288GOSr4yN4fwUPcO0wGRIETkAhEpAmYDr4jIIrdi+fYpIymvbebZVUVuhWCM\n6efuWpxHSmwElx8/1NU4AiJBqOoLqjpYVSNVNUNVz3QrltkjUpiencTf3s63UoQxxu8+2lHJe9sq\n+PpJI4iN9O+d0x0FRIIIJCLCjWeNpaSmiX++v9PtcIwx/Yiq8sfFeaTHR3LFLHdLD2AJolOzhqcw\nf1w69y3ZboMJGWP85o1NpXy8cx83nDqS6Aj/3xjXkSWILvzkc2Opb/Hw17e2uR2KMaYfaGpt41ev\nbGJ0RhyXzsx2OxzAEkSXRqbHc9nx2Tz24W427ql2OxxjzDHuoWU7KdzXyK3nTiDMxSuX2guMKALU\n/50xlqTocG56YYMNKGSM6TPFVY38bUk+Z07IYO7IVLfD+ZQliG4kxoRz84JxrC2sso78jDF9QlW5\n6fn1ANx8zniXo/ksSxCH8PmpWcwZkcLvXt/C3upGt8Mxxhxjnv+kmHfzyrnxzDEMSY5xO5zPsARx\nCCLCHRdMwtOm3PjcOrxW1WSMOUrKapu4feEmcocO4KrZOW6HcxBLED2QkxrLz84Zx3vbKnjsw91u\nh2OMOQaoKj/5z3oaW9v43UWTCQlxp0O+7liC6KHLj8/m5DFp/Oa1zeSX1bkdjjEmyP3r/V28vaWM\nn509jhFpcW6H0ylLED0kIvz+C5OJDg/lhidXWzccxpjDtqG4mt++toX549K5arb7d0x3xRJEL6Qn\nRHHXxVPZvLeGW17a4HY4xpggVNfs4TtPrWZAbDi/v2iKa2M99IQliF46ZUw6N5w6kmdWFvHMikK3\nwzHGBBGvV/nB02vYXdnAny+eRnJshNshdcsSxGH43vzRzBuZys9f2sCGYrvL2hjTM/csyeeNTaXc\ndPY4Zo9IcTucQ7IEcRhCQ4S/XDKV1LhIrn1kBSXVTW6HZIwJcIs3lXLX4jwunJbFNXNz3A6nRyxB\nHKaUuEgeujqX+uY2rn1khY1jbYzp0sY91Xz/6TVMykrkjgsnBXS7Q3uWII7A2IEJ3H3ZNDbvreG7\nT62x/pqMMQcp2t/AV/61gvioMB64agZR4e53491TAZEgROROEdkiIutE5AURSXI7pp46ZUw6tywY\nz5ubS7nt5Y2oWpIwxjiqGlq4+l8raGxt45FrZpKZGO12SL0SEAkCWAxMVNXJQB7wU5fj6ZWr5w7j\naycO57EPd/PHN/LcDscYEwAaW9q4/tFVFFQ28MCVuYzOiHc7pF5zd8BTH1V9o93LD4GL3IrlcP3k\nc2OpbmzlniX5JESHcf2JI9wOyRjjkqbWNq5/bCUrdu/jr5dMC4orljoTEAmig2uAp7uaKCLXA9cD\nZGcHxqhL4Nxp/esLJlHb5OGOV7cQFxnOZccHTnzGGP9o8Xj55hOf8N62Cn7/hcmcO2WQ2yEdNr8l\nCBF5ExjYyaSfqepLvnl+BniAJ7paj6o+ADwAkJubG1AV/qEhwp8unkpDi4ebXlhPmypXBsDA48YY\n/2ht83LDk5/w9pYyfvX5iXzpuCFuh3RE/JYgVHV+d9NF5MvAAuA0DeKW3oiwEO6/cgbfeuITfv7i\nBlo9Xq6ZN8ztsIwxfazZ08YN/17NG5tKufXc8VxxDJwcBkQjtYicBfwYOE9VG9yO50hFhoVy7+Uz\nOHNCBrcv3MQDS7e7HZIxpg/VN3u49uGVvLGplNvOHc9X5h4bJ4UBkSCAe4B4YLGIrBGR+90O6EhF\nhIVwz2XTOWdyJne8uoXfv77FLoE15hhU3dDKlQ99xPLtFfzxi1O4+hhJDhAgjdSqOtLtGPpCeGgI\nf7l4KglR4dz7znZKapr43RcmEx4aKHnZGHMkSqqbuPpfH7OjvJ57L5/BWRM7a2YNXgGRII5lYaEh\n3HHBRDITo7hrcR4VdS3ce/l04iLtqzcmmG3aU8M1D6+gtqmVh67O5YRRaW6HdNTZqawfiAjfOW0U\nv/vCJN7Pr+CSBz5gb3Wj22EZYw7Tki1lfPH+5YjAc9+Yc0wmB7AE4VcXH5fNg1flsquigXPvfp9V\nu/e7HZIxphdUlUc/2MW1j6wgJzWWF781l3GZCW6H1WcsQfjZKWPTeeGbc4iNDOXSBz7kmZU26JAx\nwaCptY0bn1vHLS9t5NSx6TzztdlkJES5HVafsgThglEZ8bz0rbnMHJbMjc+t47aXN9La5nU7LGNM\nF4r2N/DF+z/g2VVFfOe0UTxwZS6x/aAd8dj/hAEqKSaCh79yHHe8uoV/vr+TtUVV3H3pNAYPiHE7\nNGNMO8u2VXDDk5/gaVMevCqX+eMz3A7Jb6wE4aKw0BBuOXc8f7tsOttK6zjnr8t4c1Op22EZY3C6\nzfjDoq1c+c+PSIuP5OUb5vWr5ACWIALCOZMzWXjDPIYkR3Pdoyv51cJNtHisyskYtxTua+BLf/+A\ne5bkc9H0wbzwzbkMS411Oyy/syqmAJGTGst/vjGHO17ZzIPLdvL+9kr+dPEUxg48dq+QMCYQvbSm\nmJtf2ADA3ZdOC+reWI+UlSACSGRYKL84fyL/uCqX8tomzrv7fe5/d7sNZWqMH+yrb+E7T67mu0+t\nYVRGHK9+94R+nRzAShAB6fTxGUzPPpGfvbCB3762hTc3lfLHL01haEr/K+Ia4w+vb9jLzS9uoLqx\nle/PH823ThlBmHWJgwRzB3K5ubm6cuVKt8PoM6rKi2uKueUl5zLY788fzTXzhllfTsYcJZV1zdz6\n8kYWrtvLxKwE7rxoyjF949sBIrJKVXMPNZ+VIAKYiHDBtMHMGp7CLS9t5DevbeHFNXv4zYWTmDok\nye3wjAlaXq/y3CdF/Pa1LdQ2tfKjM0bztZNG2MlXB1aCCCKvbyjh1pc3UFbbzJdn5/DDM0YTHxXu\ndljGBJXNe2v4+YsbWLl7PzOGDuDXF0zsdxeDWAniGHTWxIHMHZnCHxZt5ZEPdrFw3V5uPGsMF00f\nTEiIuB2eMQGtrtnDnxbn8fDyXSRGh/P7iybbvnMIVoIIUmsLq7jtvxtZXVDFpKxEbj13PLk5yW6H\nZUzAafMqz64s5I+L86ioa+bSmdnceOYYkmIi3A7NNT0tQQREghCRXwLnA16gDLhaVfccarn+nCDA\nacR+ac0efvvaFkpqmjh3yiB+8rmxZCVFux2aMQHh3bxy7nhlM1tLa5kxdAA/XzDe2u8IvgSRoKo1\nvuffAcar6tcPtVx/TxAHNLR4uP+d7fx96Q5U4YpZQ/nWKSNIiYt0OzRjXLGlpIY7Xt3C0rxyspNj\n+MnnxvK5iQMRseokCLI2iAPJwScWcD9rBZGYiDB+cMYYLp6ZzV/ezOPh5Tt5ekUB154wnOtOGEaC\nNWSbfiK/rI6/vLWNhev2kBAVzs3njOPK2UOJDAt1O7SgFBAlCAAR+TVwFVANnKKq5V3Mdz1wPUB2\ndvaM3bt3+y/IIJFfVsddi7fy6voSkmLC+cZJI7hi1tB+0T2x6Z92VdTz17e28eKaYqLCQ7l6Tg7X\nnzi8X7czdCfgqphE5E2gsxG9f6aqL7Wb76dAlKreeqh1WhVT99YXVXPnG1tZmldOUkw4X5kzjKvn\n5JAYYyUKc2zYUV7Hfe9s5/nVxYSHClfNzuFrJw636tVDCLgE0VMiMhR4RVUnHmpeSxA980nBfu5d\nks+bm8uIiwzjillDuXbeMNLibScywWl1wX7+/u4OFm0qITw0hMuPz+YbJ48gPf7YHuHtaAmqBCEi\no1R1m+/5DcBJqnrRoZazBNE7m/fW8Lcl+byyfi8RoSF8YcZgvjInh1EZ8W6HZswhqSrv5JVz/zvb\n+WjnPhKiwrhqdg5fnpNjJzu9FGwJ4j/AGJzLXHcDX1fV4kMtZwni8Owor+OBpTt4fnUxLR4vJ4xK\n5Zp5wzhpVJrdNGQCTn2zh+dXF/PYB7vIK60jMzGKa+cN45KZ2cRZu9phCaoEcbgsQRyZyrpmnvy4\ngEc/2E1ZbTPDU2O5em4On5+WZVc+GddtL6/jsQ92859VRdQ2e5iYlcDVc4Zx3pRBRIRZn0lHwhKE\n6bEWj5fXNuzln8t2sraomujwUM6ZnMmlM4cwPXuAXTtu/KbF4+XtLaU88VEB722rIDxUOGdSJlfN\nyWHakCT7LR4lliBMr6kq64qqeWpFAS+v2UN9SxujM+K4+LhsLpyWxYBYu2TQ9I3Ne2t4dmURL64p\nZl99CwMTorhiVjYXH5dt7Qt9wBKEOSJ1zR7+u3YPT31cwNqiaiJCQzh5TBqfn5bFqWPTiQq3G4/M\nkdlX38LCdXt4ZmUhG4priAgN4fTxGVyUO5gTR6URau1hfcYShDlqNu2p4blVRfx33R7Ka5uJjwzj\nrIkDOX9qFrNHpNiObHqsurGVNzaW8N91e3k/v4I2rzJhUAJfnDGY86daKdVfLEGYo87T5uWDHZW8\nuHoPizaWUNfsIS0+kjMnZHDWhEyOH55sA66Yg9Q1e3hrcyn/XbuHpXkVtLR5GZIczYLJgzh38iDG\nD+pfYzEEAksQpk81tbbx1uYyXl5bzLt55TS1ekmMDue0semcMWEgJ41OIzrCqqH6qz1Vjby1uZTF\nm8v4cHslLW1eBiZEsWByJgumDGLK4ERrcHaRJQjjN40tbSzdVs6ijSW8tbmM6sZWosJDmDcylRNH\np3HS6DSGpsS6HabpQ16vsnFPDW9tKWXxplI27nH638xJieH08RmcPn4guUMH2H02AcIShHFFa5uX\nj3fuY9HGEt7ZWk7BvgbAOVCcNDqNE0enMXtECjERdoNTsCvc18D7+RW8l1/B8vwK9je0IgIzsgcw\nf3wG88dlMCIt1koKAcgShAkIuyrqeTevnHfzyvlgeyWNrW2EhwqTshI5fngKxw9LJjcn2e6IDQIl\n1U2s3L2PD3dUsmxbBbsqneSfkRDJvJFpzBuVwomj0qyjvCBgCcIEnGZPGyt37ee9bRV8vLOSdUXV\neLxKiMDErESOH5bMjKHJTB2SxMBE63TNTV6vkl9ex4pd+1i5az8rdu2jaH8jADERocwansK8kamc\nMCqVkelxVkoIMpYgTMBraPHwye4qPt5ZyYc797GmsIoWjxeAgQlRTBmSyJQhSUwdnMSkwYnEW/cf\nfUJVKdzXyPriatYXV7PB97e6sRWA1LhIjssZQG5OMsflDGBcZoJdrRbkgmpEOdM/xUSEMW9UKvNG\npQLOlVGb9tawtrDKeRRVs2hj6afzD02JYUxGPGMzExg3MJ4xA+MZmhJr92H0QmNLG/lldeSV1pJX\nVsvG4prPJIPwUGHMwHjOnjSQ6dkDOC4nmaEpMVZC6KcsQZiAERUeyvTsAUzPHvDpe1UNLawrqmZt\nYRVbSmrZXFLDm5tL8eqBZUIYnRHP8NRYclJjGeZ75KTG9tsOB1WV8tpmdu9rYHdlA9vL69hWWkte\naR2F+xs4UGkQHiqMznCSwcSsRCZlJTJmYLwNz2k+ZVVMJug0trSxrayWLSW1bNlby9bSGnaW17On\nuukz86XERpCTGktWUjSZSVEMSowmMzGKQUnO3+TYiKA8M27xeCmrbaK0ponSmmZKqpso2t9Iwb56\nCvY1ULCvgaZW76fzh4UIw9NiGZURz+j0eEZnxDEqI56clBjCrKqoX7IqJnPMio4IZfLgJCYPTvrM\n+02tbeyubGBnRT27KuvZVVHPzop6Vhfu57UNTbS2ffZkKDIshNS4SFLiIkiOdR4psREkx0aSEhtB\nQnQYsZHOI873iI0MIzYi9IgPrF6v0uRpo6GljcaWNhpbnefVja1UNbRQ1dDKft/fqoYW9je0Ul7b\nTGlNE5X1LQd/J+GhDE2JYWhKLCeOSiM7JYbsZOcxeECMdY9tDoslCHPMiAoPZYyvbaIjr1epqG9m\nb1UTe6sb2eP7W1nXQmV9C5V1LWwrraOyvvkzZ99dCQ8VwkJCCA8VwkNDCGv3OiREUIU2r9LmVbx6\n4C+0eb00trb1aBsA8VFhDIiJICkmnMzEKKYMSWJgQhQDEyNJT4hiYEIUGQlRDIgJD8rSkAlsliBM\nvxASIqTHR5Ee7xxku9PQ4qGyroXaJg/1LR7qmjzUNXuobz7w1znj97R58XiV1jYvnjal1ev8bVMl\nVIQQcbYbKkJoiCAihIUI0RGhRIeHEh0RSkyH54nR4STFRJAUHU5idLhVARlXBVSCEJEfAXcCaapa\n4XY8pn+KiQgjJjmgdg1jXBEwpyciMgQ4HShwOxZjjDEBlCCAPwE3AsF7WZUxxhxDAiJBiMh5QLGq\nru3BvNeLyEoRWVleXu6H6Iwxpn/yW0WriLwJDOxk0s+Am4AzerIeVX0AeACc+yCOWoDGGGM+w28J\nQlXnd/a+iEwChgFrfZfpDQY+EZGZqlrir/iMMcZ8luuXaqjqeiD9wGsR2QXk2lVMxhjjroBogzDG\nGBN4XC9BdKSqOW7HYIwxJsg76xORWmCr23F0IxUI5KqyQI4vkGMDi+9IBHJs0D/iG6qqaYeaKeBK\nEL20tSc9ErpFRFZafIcnkGMDi+9IBHJsYPG1Z20QxhhjOmUJwhhjTKeCPUE84HYAh2DxHb5Ajg0s\nviMRyLGBxfepoG6kNsYY03eCvQRhjDGmj1iCMMYY06ljJkGIyI9EREUk1e1Y2hORX4rIOhFZIyJv\niMggt2M6QETuFJEtvvheEJHuh1rzMxH5oohsFBGviATEZYcicpaIbBWRfBH5idvxdCQi/xSRMhHZ\n4HYsHYnIEBFZIiKbff/X77odU3siEiUiH4vIWl98v3A7po5EJFREVovIQn9s75hIEAE+2NCdqjpZ\nVacCC4Fb3A6oncXARFWdDOQBP3U5no42ABcCS90OBJydE/gb8DlgPHCpiIx3N6qDPAyc5XYQXfAA\nP1TVccAs4FsB9v01A6eq6hRgKnCWiMxyOaaOvgts9tfGjokEQQAPNqSqNe1exhJAMarqG6rq8b38\nEKcn3YChqptVNZDulJ8J5KvqDlVtAZ4Cznc5ps9Q1aXAPrfj6Iyq7lXVT3zPa3EOdFnuRvU/6qjz\nvQz3PQJmfxWRwcA5wIP+2mbQJ4jeDDbkFhH5tYgUApcTWCWI9q4BXnM7iACXBRS2e11EAB3ggomI\n5ADTgI/cjeSzfFU4a4AyYLGqBlJ8f8Y5Efb6a4NB0dXG0RpsqK90F5+qvqSqPwN+JiI/Bb4N3Boo\nsfnm+RlO8f8Jf8V1QE/iCyDSyXsBc4YZLEQkDvgP8L0OJWzXqWobMNXXHveCiExUVdfbc0RkAVCm\nqqtE5GR/bTcoEkSgDzbUVXyd+DfwCn5MEIeKTUS+DCwATlMXborpxXcXCIqAIe1eDwb2uBRLUBKR\ncJzk8ISqPu92PF1R1SoReQenPcf1BAHMBc4TkbOBKCBBRB5X1Sv6cqNBXcWkqutVNV1Vc3zdhBcB\n0wNpJDoRGdXu5XnAFrdi6UhEzgJ+DJynqg1uxxMEVgCjRGSYiEQAlwAvuxxT0BDnLO4hYLOq3uV2\nPB2JSNqBK/lEJBqYT4Dsr6r6U1Ud7DvOXQK83dfJAYI8QQSJ34rIBhFZh1MVFkiX9t0DxAOLfZfh\n3u92QO2JyAUiUgTMBl4RkUVuxuNr0P82sAingfUZVd3oZkwdiciTwAfAGBEpEpFr3Y6pnbnAlcCp\nvt/bGt8ZcaDIBJb49tUVOG0QfrmcNFBZVxvGGGM6ZSUIY4wxnbIEYYwxplOWIIwxxnTKEoQxxphO\nWYIwxpgg0ZvOGEUk29c54mpfh5y9vmLMEoQxh0FEbvP1HqxH2quriOS0W1cg3JRlAtfD9Lwzxptx\nLsWehnPvxL293ZglCGMO31aca+fvPsL1FPrW88cjjsgc0zrrjFFERojI6yKySkTeE5GxB2YHEnzP\nEzmMu/6DoqsNYwKU52jcte/r/6dEROoOObMxB3sA+LqqbhOR43FKCqcCtwFviMgNOD1J97pbGytB\nGNMJX7cLe0XklnbvTRaRJhG5qJvldonILSLysIjUikihiFwsIkki8pSI1InINhFxtYNJc2zwdXw4\nB3jW1wvt33FKowCXAg+r6mDgbOAxEenVMd8ShDGdUNVy4GrgZhGZ7eub50ngSVV97hCLfw/4GJgO\nPAM8gtNR46s4A9EsBR4Xkag+Ct/0HyFAlapObfcY55t2Lc7vD1X9AKeTv16NuGkJwpguqOoinOL6\nE76/kcANPVh0kareq6rbcHrujcQZaOhRVc0HfgmkARP7JnLTX/i6S98pIl8Ep0NEEZnim1wAnOZ7\nfxxOgijvzfotQRjTvR8DLcBVwOXtRhzrzroDT3zzNwDr200v9f1NP1pBmv6hi84YLweuFZG1wEb+\nN8rhD4Gv+t5/Eri6t136WyO1Md3LwRkDQoHh9GwEtNYOr7XDewd2UjtBM72iqpd2MemgS19VdRNO\nD7qHzX6gxnTBN7jNEzhjPvwIuE9Est2Nyhj/sRKEMV37JU410HygGucs7TEROcXVqIzxE0sQxnRC\nRE7CqcM9XVWrfO9djRShP6cAAACWSURBVNO+8GMXQzPGbyxBGNMJVX0XCO/wXgm+hmURua2L5XI6\neS+uw+smQI5SqMb0GWuDMObwjfPd+PaDI1mJr1O1OuCmoxSXMUeFDTlqzGEQkWQg2fey4kA11GGu\nKwznaimAZlUtPMLwjDkqLEEYY4zplFUxGWOM6ZQlCGOMMZ2yBGGMMaZTliCMMcZ0yhKEMcaYTv0/\nBMV2p1npYmsAAAAASUVORK5CYII=\n",
      "text/plain": [
       "<matplotlib.figure.Figure at 0x7fdc7c6175f8>"
      ]
     },
     "metadata": {},
     "output_type": "display_data"
    }
   ],
   "source": [
    "periode=len(x)-1 # Comme chaque élément de la liste x par exemple est séparé par une secondes,\n",
    "print('la période vaut',periode)   #alors leur nombre -1 vaut la période. -1 car on ne compte pas t=0 secondes\n",
    "b=max(y) #On calcul le petit axe\n",
    "a=(max(x)+rmin)*0.5 # On calcul de -a à a (a le grand axe),et on divse par 2. Nous aisons cela car l'origine (le foyer)\n",
    "print('b vaut',b)   #N'est pas au centre de l'éllipse\n",
    "print('a vaut',a)\n",
    "e=((a**2-b**2)**0.5)/a # Ceci est la formule de l'excentricité pour une ellipse\n",
    "print('l excentricité vaut',e)\n",
    "plt.title(\"Trajectoire de la lune par rapport à la terre\")\n",
    "plt.plot(x,z)\n",
    "plt.xlabel('x[m]', fontsize=14)\n",
    "plt.ylabel('z[m]', fontsize=14)\n",
    "plt.show()\n",
    "plt.title(\"Trajectoire de la lune par rapport à la terre\")\n",
    "plt.plot(y,z)\n",
    "plt.xlabel('y[m]', fontsize=14)\n",
    "plt.ylabel('z[m]', fontsize=14)\n",
    "plt.show()\n",
    "plt.title(\"Trajectoire de la lune par rapport à la terre\")\n",
    "plt.plot(x,y)\n",
    "plt.xlabel('x[m]', fontsize=14)\n",
    "plt.ylabel('y[m]', fontsize=14)\n",
    "plt.show()"
   ]
  },
  {
   "cell_type": "markdown",
   "metadata": {
    "collapsed": true
   },
   "source": [
    "Remarquons que la période est de +-27,207 jours et l'excentricité de 0.0549003 (elliptique mais tres proche du cercle) ce qui est d'acord avec la solution théorique"
   ]
  },
  {
   "cell_type": "markdown",
   "metadata": {},
   "source": [
    "Constatons aussi que la trajectoire est elliptique que sur un plan. Ceci concorde bien avec la théorie "
   ]
  },
  {
   "cell_type": "markdown",
   "metadata": {},
   "source": [
    "Comme son nom indique, la methode utilise est d'ordre 4. Ça veut dire que l'erreur totale de la méthode est proportienel a $(dt)^$, et donc si on divise le pas par deux on reduit l'erreur total par 16 (Avec un nombre assez grande de pas). Nous pouvons caracteriser ceci aussi en prenant une solution polynomiale d'un problème. Si la solution est un polynome de degré ou inferieur RK4 donnera une solution exacte. \n",
    "\n",
    "Voyons une comparaison entre la valeur theorique et notre méthode:"
   ]
  },
  {
   "cell_type": "code",
   "execution_count": 28,
   "metadata": {
    "collapsed": true
   },
   "outputs": [],
   "source": [
    "ex=0.0549006"
   ]
  },
  {
   "cell_type": "code",
   "execution_count": 45,
   "metadata": {},
   "outputs": [
    {
     "data": {
      "image/png": "iVBORw0KGgoAAAANSUhEUgAAAYgAAAEVCAYAAAD6u3K7AAAABHNCSVQICAgIfAhkiAAAAAlwSFlz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\nRK5CYII=\n",
      "text/plain": [
       "<matplotlib.figure.Figure at 0x7fdc574b9dd8>"
      ]
     },
     "metadata": {},
     "output_type": "display_data"
    }
   ],
   "source": [
    "theta = numeric.linspace(0.0, 2*math.pi, 1000)\n",
    "r_the = rmin*(1+ex)/((ex*numeric.cos(theta))+1)\n",
    "plt.plot(r_the*numeric.cos(theta), r_the*numeric.sin(theta))\n",
    "plt.xlabel('x[m]', fontsize=14)\n",
    "plt.ylabel('y[m]', fontsize=14)\n",
    "plt.show()\n"
   ]
  },
  {
   "cell_type": "code",
   "execution_count": null,
   "metadata": {
    "collapsed": true
   },
   "outputs": [],
   "source": []
  },
  {
   "cell_type": "code",
   "execution_count": null,
   "metadata": {
    "collapsed": true
   },
   "outputs": [],
   "source": []
  },
  {
   "cell_type": "code",
   "execution_count": 46,
   "metadata": {},
   "outputs": [],
   "source": []
  },
  {
   "cell_type": "code",
   "execution_count": null,
   "metadata": {
    "collapsed": true
   },
   "outputs": [],
   "source": []
  },
  {
   "cell_type": "markdown",
   "metadata": {},
   "source": [
    "# Astéroide"
   ]
  },
  {
   "cell_type": "markdown",
   "metadata": {},
   "source": [
    "Maintenant, on va considérer que au moment que la lune est à l'apogée de sa trajectoire, un astéroide se trouve au centre de l'ellipse de la trajectoire de la lune par rapport à la terre avec comme vitesse $(v_{x},v_{y})=(-500~m/s~,500~m/s)$ par rapport au repère de la terre.\n",
    "Nous supposerons aussi que l'astéroïde est dévié par le systeme Terre-Lune mais que celui-ci est trop léger pour modifier la trajectoire de la terre ou de la lune."
   ]
  },
  {
   "cell_type": "markdown",
   "metadata": {},
   "source": [
    "L'astéroide est soumis à deux forces: $$\\overrightarrow{F_{ast}}=\\overrightarrow{F_{ast,terre}}+\\overrightarrow{F_{ast,lune}}=\\frac{-Gm_{t}m_{ast}\\overrightarrow{r_{ast,terre}}}{r_{ast,terre}^{3}}+\\frac{Gm_{l}m_{ast}(\\overrightarrow{r_{asr,terre}}-\\overrightarrow{r_{l}})}{(\\overrightarrow{r_{ast,terre}}-\\overrightarrow{r_{l}})^{3}}=m_{ast}\\ddot{\\overrightarrow{r_{ast}}}~~~(1)$$et$$m_{t}\\ddot{\\overrightarrow{r_{t}}}=\\frac{Gm_{t}m_{l}\\overrightarrow{r_{l}}}{r_{l}^{3}}~~~(2)$$ \n",
    "Où $\\overrightarrow{r_{ast}}$ le vecteur position de l'asteroide,$\\overrightarrow{r_{asr,terre}}$ la position de l'asteroide par rapport au repere de la terre et $\\overrightarrow{r_{l}}$ la position de la lune par rapport au repere de la terre (déjà calculée)  \n",
    "\n",
    "En soustrayant les équations: (2)-(1), nous obtenons $$\\ddot{\\overrightarrow{r_{asr,terre}}}=\\frac{-Gm_{t}\\overrightarrow{r_{ast,terre}}}{r_{ast,terre}^{3}}+\\frac{Gm_{l}(\\overrightarrow{r_{asr,terre}}-\\overrightarrow{r_{l}})}{(\\overrightarrow{r_{ast,terre}}-\\overrightarrow{r_{l}})^{3}}-\\frac{Gm_{l}\\overrightarrow{r_{l}}}{r_{l}^{3}}$$\n",
    "\n",
    "On pose$\\ddot{\\overrightarrow{r_{asr,terre}}}=(x,y)$ \n",
    "\n",
    "Nous devons donc résoudre $$\\left\\{\\begin{matrix}\\ddot{x}=\\frac{-Gm_{t}x}{(\\sqrt{x^{2}+y^{2}})^{3}}-\\frac{Gm_{l}(x-x_{l})}{(\\sqrt{(x-x_{l})^{2}+(y-y_{l})^{2}})^{3}}-\\frac{Gm_{l}(x_{l})}{(\\sqrt{(x_{l})^{2}+(y_{l})^{2}})^{3}}\\\\\n",
    "\\ddot{y}=\\frac{-Gm_{t}y}{(\\sqrt{x^{2}+y^{2}})^{3}}-\\frac{Gm_{l}(y-y_{l})}{(\\sqrt{(x-x_{l})^{2}+(y-y_{l})^{2}})^{3}}-\\frac{Gm_{l}(x_{l})}{(\\sqrt{(x_{l})^{2}+(y_{l})^{2}})^{3}}\\end{matrix}\\right.$$\n",
    "\n",
    "Du coup, on pose \n",
    "$\\begin{pmatrix}x\\\\\\dot{x}\\\\y\\\\\\dot{y}\\end{pmatrix}$ et $g(u)=\\dot{u}=\\begin{pmatrix}\\dot{x}\\\\\n",
    "\\ddot{x}\\\\\n",
    "\\dot{y}\\\\\\ddot{y}\\\\\n",
    "\\end{pmatrix}=\\begin{pmatrix}\\dot{x}\\\\\n",
    "\\frac{-Gm_{t}x}{(\\sqrt{x^{2}+y^{2}})^{3}}-\\frac{Gm_{l}(x-x_{l})}{(\\sqrt{(x-x_{l})^{2}+(y-y_{l})^{2}})^{3}}-\\frac{Gm_{l}(x_{l})}{(\\sqrt{(x_{l})^{2}+(y_{l})^{2}})^{3}}\\\\\n",
    "\\dot{y}\\\\\\frac{-Gm_{t}y}{(\\sqrt{x^{2}+y^{2}})^{3}}-\\frac{Gm_{l}(y-y_{l})}{(\\sqrt{(x-x_{l})^{2}+(y-y_{l})^{2}})^{3}}-\\frac{Gm_{l}(x_{l})}{(\\sqrt{(x_{l})^{2}+(y_{l})^{2}})^{3}}\\\\\n",
    "\\end{pmatrix}$"
   ]
  },
  {
   "cell_type": "markdown",
   "metadata": {},
   "source": [
    "Expliquons le code:"
   ]
  },
  {
   "cell_type": "markdown",
   "metadata": {},
   "source": [
    "On va maintenant récupérer toutes les positions de la lune à partir où elle atteint son apogée:"
   ]
  },
  {
   "cell_type": "code",
   "execution_count": 17,
   "metadata": {},
   "outputs": [],
   "source": [
    "tn=0\n",
    "xl=[]\n",
    "yl=[]\n",
    "while tn<periode:\n",
    "    if y[tn]<=0.0:\n",
    "        xl.append(x[tn])\n",
    "        yl.append(y[tn])\n",
    "    tn+=1\n",
    "        "
   ]
  },
  {
   "cell_type": "markdown",
   "metadata": {},
   "source": [
    "Remarqons que cette liste (de l'apogée au pérignée). Or, apres 14 jours la lune dépassera son périgné. Du coup on récupère les quelques valeurs qu'on a besoin."
   ]
  },
  {
   "cell_type": "code",
   "execution_count": 18,
   "metadata": {},
   "outputs": [
    {
     "data": {
      "text/plain": [
       "1175341"
      ]
     },
     "execution_count": 18,
     "metadata": {},
     "output_type": "execute_result"
    }
   ],
   "source": [
    "len(xl)"
   ]
  },
  {
   "cell_type": "code",
   "execution_count": 19,
   "metadata": {},
   "outputs": [],
   "source": [
    "tn=0\n",
    "while tn<=34260:     #1209600-1175341 +1 On aura apres besoin du +1 apres\n",
    "    xl.append(x[tn])\n",   #on a rectifié le chiffre 34260,car on a oublié de mettre à jour celui-ci
    "    yl.append(y[tn])\n",
    "    tn+=1"
   ]
  },
  {
   "cell_type": "code",
   "execution_count": 20,
   "metadata": {},
   "outputs": [],
   "source": [
    "ml=7.348*10**22"
   ]
  },
  {
   "cell_type": "markdown",
   "metadata": {},
   "source": [
    "On définit la fonction g décrit comme plus au dessus.\n",
    "Lors de la procédure de Runge Kutta 4, nous sommes tombés sur un problème pour les listes des positions de la lune. Lorsque nous faisons appel à eux, nous devons prendre le t-ème élément de la liste. Cependant lorque pour par exemple pour k2 on doit évaluer g en t+dt*0.5(t un entier), on fera appel à un numero de place de liste non-entier (absurde!)\n",
    "Pour résoudre ceci, on précise à la fonction que si on demande un numero de place non entier, alors on fait la moyenne arithmétique du numero de place juste avant et du numero de place juste apres. "
   ]
  },
  {
   "cell_type": "code",
   "execution_count": 15,
   "metadata": {},
   "outputs": [],
   "source": [
    "def g(t,u):\n",
    "    if t==int(t):               \n",
    "        lx=xl[int(t)]           \n",
    "        ly=yl[int(t)]\n",
    "    else:\n",
    "        lx=(xl[int(t+1)]+xl[int(t-1)])*0.5\n",
    "        ly=(yl[int(t+1)]+yl[int(t-1)])*0.5\n",
    "    return numeric.array([u[1],-G*(((mt*u[0])/((((u[0])**2)+(u[2])**2)**1.5))+((ml*(u[0]-lx))/((((u[0]-lx)**2)+((u[2]-ly)**2))**1.5))+((ml*lx)/(((lx**2)+(ly**2))**1.5))),u[3],-G*(((mt*u[2])/((((u[0])**2)+(u[2])**2)**1.5))+((ml*(u[2]-ly))/((((u[0]-lx)**2)+((u[2]-ly)**2))**1.5))+((ml*ly)/(((lx**2)+(ly**2))**1.5)))]) "
   ]
  },
  {
   "cell_type": "markdown",
   "metadata": {},
   "source": [
    "Nous appliquons la méthode de Runge Kutta 4:"
   ]
  },
  {
   "cell_type": "code",
   "execution_count": 34,
   "metadata": {},
   "outputs": [],
   "source": [
    "def RK4a(ua,nbre,R):                      #On applique la mèthode de Runge Kutta comme précédemment\n",
    "    dt=1\n",
    "    xx=[]\n",
    "    yy=[]\n",
    "    xx.append(ua[0])\n",
    "    yy.append(ua[2])\n",
    "    N=int(nbre/dt)+1\n",
    "    t=0\n",
    "    N=range(N)\n",
    "    for j in N:                                     #Nous imposons la condition que on peut pas aller en dessous de R\n",
    "        if (ua[0]**2)+(ua[2]**2)>=(R**2):\n",
    "            k1=g(t,ua)                                   \n",
    "            k2=g(t+dt*0.5,ua+dt*k1*0.5)\n",
    "            k3=g(t+dt*0.5,ua+dt*k2*0.5)\n",
    "            k4=g(t+dt,ua+dt*k3)\n",
    "            ua=ua+dt*(k1+2*k2+2*k3+k4)/6\n",
    "            t+=dt\n",
    "            xx.append(ua[0])\n",
    "            yy.append(ua[2])\n",
    "        else:\n",
    "            temps=j\n",
    "            print('l astéroide cognera la terre apres',temps,'s')\n",
    "            plt.plot(xx,yy)\n",
    "            plt.show()\n",
    "            return ua"
   ]
  },
  {
   "cell_type": "markdown",
   "metadata": {},
   "source": [
    "Nous cherchons la position initiale de l'astéroide (au centre de l'ellipse)"
   ]
  },
  {
   "cell_type": "code",
   "execution_count": 35,
   "metadata": {
    "collapsed": true
   },
   "outputs": [],
   "source": [
    "centre_x=a-rmin"
   ]
  },
  {
   "cell_type": "code",
   "execution_count": 36,
   "metadata": {
    "collapsed": true
   },
   "outputs": [],
   "source": [
    "centre_y=0.0"
   ]
  },
  {
   "cell_type": "markdown",
   "metadata": {},
   "source": [
    "Nous implémentons les conditions initiales"
   ]
  },
  {
   "cell_type": "code",
   "execution_count": 37,
   "metadata": {
    "collapsed": true
   },
   "outputs": [],
   "source": [
    "ua=numeric.array([centre_x,-500,centre_y,500])"
   ]
  },
  {
   "cell_type": "markdown",
   "metadata": {},
   "source": [
    "Nous résolvons les équations pour l'astéroide après 14 jours"
   ]
  },
  {
   "cell_type": "code",
   "execution_count": 38,
   "metadata": {},
   "outputs": [
    {
     "ename": "IndexError",
     "evalue": "list index out of range",
     "output_type": "error",
     "traceback": [
      "\u001b[1;31m---------------------------------------------------------------------------\u001b[0m",
      "\u001b[1;31mIndexError\u001b[0m                                Traceback (most recent call last)",
      "\u001b[1;32m<ipython-input-38-e10a65c4e688>\u001b[0m in \u001b[0;36m<module>\u001b[1;34m()\u001b[0m\n\u001b[1;32m----> 1\u001b[1;33m \u001b[0mRK4a\u001b[0m\u001b[1;33m(\u001b[0m\u001b[0mua\u001b[0m\u001b[1;33m,\u001b[0m\u001b[1;36m1209600\u001b[0m\u001b[1;33m)\u001b[0m\u001b[1;33m\u001b[0m\u001b[0m\n\u001b[0m",
      "\u001b[1;32m<ipython-input-34-7222ec28a558>\u001b[0m in \u001b[0;36mRK4a\u001b[1;34m(ua, nbre)\u001b[0m\n\u001b[0;32m      6\u001b[0m     \u001b[1;32mfor\u001b[0m \u001b[0mj\u001b[0m \u001b[1;32min\u001b[0m \u001b[0mN\u001b[0m\u001b[1;33m:\u001b[0m\u001b[1;33m\u001b[0m\u001b[0m\n\u001b[0;32m      7\u001b[0m         \u001b[0mk1\u001b[0m\u001b[1;33m=\u001b[0m\u001b[0mg\u001b[0m\u001b[1;33m(\u001b[0m\u001b[0mt\u001b[0m\u001b[1;33m,\u001b[0m\u001b[0mua\u001b[0m\u001b[1;33m)\u001b[0m\u001b[1;33m\u001b[0m\u001b[0m\n\u001b[1;32m----> 8\u001b[1;33m         \u001b[0mk2\u001b[0m\u001b[1;33m=\u001b[0m\u001b[0mg\u001b[0m\u001b[1;33m(\u001b[0m\u001b[0mt\u001b[0m\u001b[1;33m+\u001b[0m\u001b[0mdt\u001b[0m\u001b[1;33m*\u001b[0m\u001b[1;36m0.5\u001b[0m\u001b[1;33m,\u001b[0m\u001b[0mua\u001b[0m\u001b[1;33m+\u001b[0m\u001b[0mdt\u001b[0m\u001b[1;33m*\u001b[0m\u001b[0mk1\u001b[0m\u001b[1;33m*\u001b[0m\u001b[1;36m0.5\u001b[0m\u001b[1;33m)\u001b[0m\u001b[1;33m\u001b[0m\u001b[0m\n\u001b[0m\u001b[0;32m      9\u001b[0m         \u001b[0mk3\u001b[0m\u001b[1;33m=\u001b[0m\u001b[0mg\u001b[0m\u001b[1;33m(\u001b[0m\u001b[0mt\u001b[0m\u001b[1;33m+\u001b[0m\u001b[0mdt\u001b[0m\u001b[1;33m*\u001b[0m\u001b[1;36m0.5\u001b[0m\u001b[1;33m,\u001b[0m\u001b[0mua\u001b[0m\u001b[1;33m+\u001b[0m\u001b[0mdt\u001b[0m\u001b[1;33m*\u001b[0m\u001b[0mk2\u001b[0m\u001b[1;33m*\u001b[0m\u001b[1;36m0.5\u001b[0m\u001b[1;33m)\u001b[0m\u001b[1;33m\u001b[0m\u001b[0m\n\u001b[0;32m     10\u001b[0m         \u001b[0mk4\u001b[0m\u001b[1;33m=\u001b[0m\u001b[0mg\u001b[0m\u001b[1;33m(\u001b[0m\u001b[0mt\u001b[0m\u001b[1;33m+\u001b[0m\u001b[0mdt\u001b[0m\u001b[1;33m,\u001b[0m\u001b[0mua\u001b[0m\u001b[1;33m+\u001b[0m\u001b[0mdt\u001b[0m\u001b[1;33m*\u001b[0m\u001b[0mk3\u001b[0m\u001b[1;33m)\u001b[0m\u001b[1;33m\u001b[0m\u001b[0m\n",
      "\u001b[1;32m<ipython-input-33-7b5b5629180b>\u001b[0m in \u001b[0;36mg\u001b[1;34m(t, u)\u001b[0m\n\u001b[0;32m      4\u001b[0m         \u001b[0mly\u001b[0m\u001b[1;33m=\u001b[0m\u001b[0myl\u001b[0m\u001b[1;33m[\u001b[0m\u001b[0mint\u001b[0m\u001b[1;33m(\u001b[0m\u001b[0mt\u001b[0m\u001b[1;33m)\u001b[0m\u001b[1;33m]\u001b[0m\u001b[1;33m\u001b[0m\u001b[0m\n\u001b[0;32m      5\u001b[0m     \u001b[1;32melse\u001b[0m\u001b[1;33m:\u001b[0m\u001b[1;33m\u001b[0m\u001b[0m\n\u001b[1;32m----> 6\u001b[1;33m         \u001b[0mlx\u001b[0m\u001b[1;33m=\u001b[0m\u001b[1;33m(\u001b[0m\u001b[0mxl\u001b[0m\u001b[1;33m[\u001b[0m\u001b[0mint\u001b[0m\u001b[1;33m(\u001b[0m\u001b[0mt\u001b[0m\u001b[1;33m+\u001b[0m\u001b[1;36m1\u001b[0m\u001b[1;33m)\u001b[0m\u001b[1;33m]\u001b[0m\u001b[1;33m+\u001b[0m\u001b[0mxl\u001b[0m\u001b[1;33m[\u001b[0m\u001b[0mint\u001b[0m\u001b[1;33m(\u001b[0m\u001b[0mt\u001b[0m\u001b[1;33m-\u001b[0m\u001b[1;36m1\u001b[0m\u001b[1;33m)\u001b[0m\u001b[1;33m]\u001b[0m\u001b[1;33m)\u001b[0m\u001b[1;33m*\u001b[0m\u001b[1;36m0.5\u001b[0m\u001b[1;33m\u001b[0m\u001b[0m\n\u001b[0m\u001b[0;32m      7\u001b[0m         \u001b[0mly\u001b[0m\u001b[1;33m=\u001b[0m\u001b[1;33m(\u001b[0m\u001b[0myl\u001b[0m\u001b[1;33m[\u001b[0m\u001b[0mint\u001b[0m\u001b[1;33m(\u001b[0m\u001b[0mt\u001b[0m\u001b[1;33m+\u001b[0m\u001b[1;36m1\u001b[0m\u001b[1;33m)\u001b[0m\u001b[1;33m]\u001b[0m\u001b[1;33m+\u001b[0m\u001b[0myl\u001b[0m\u001b[1;33m[\u001b[0m\u001b[0mint\u001b[0m\u001b[1;33m(\u001b[0m\u001b[0mt\u001b[0m\u001b[1;33m-\u001b[0m\u001b[1;36m1\u001b[0m\u001b[1;33m)\u001b[0m\u001b[1;33m]\u001b[0m\u001b[1;33m)\u001b[0m\u001b[1;33m*\u001b[0m\u001b[1;36m0.5\u001b[0m\u001b[1;33m\u001b[0m\u001b[0m\n\u001b[0;32m      8\u001b[0m     \u001b[1;32mreturn\u001b[0m \u001b[0mnumeric\u001b[0m\u001b[1;33m.\u001b[0m\u001b[0marray\u001b[0m\u001b[1;33m(\u001b[0m\u001b[1;33m[\u001b[0m\u001b[0mu\u001b[0m\u001b[1;33m[\u001b[0m\u001b[1;36m1\u001b[0m\u001b[1;33m]\u001b[0m\u001b[1;33m,\u001b[0m\u001b[0mG\u001b[0m\u001b[1;33m*\u001b[0m\u001b[1;33m(\u001b[0m\u001b[1;33m(\u001b[0m\u001b[1;33m(\u001b[0m\u001b[1;33m-\u001b[0m\u001b[0mmt\u001b[0m\u001b[1;33m*\u001b[0m\u001b[0mu\u001b[0m\u001b[1;33m[\u001b[0m\u001b[1;36m0\u001b[0m\u001b[1;33m]\u001b[0m\u001b[1;33m)\u001b[0m\u001b[1;33m/\u001b[0m\u001b[1;33m(\u001b[0m\u001b[1;33m(\u001b[0m\u001b[1;33m(\u001b[0m\u001b[0mu\u001b[0m\u001b[1;33m[\u001b[0m\u001b[1;36m0\u001b[0m\u001b[1;33m]\u001b[0m\u001b[1;33m**\u001b[0m\u001b[1;36m2\u001b[0m\u001b[1;33m)\u001b[0m\u001b[1;33m+\u001b[0m\u001b[1;33m(\u001b[0m\u001b[0mu\u001b[0m\u001b[1;33m[\u001b[0m\u001b[1;36m2\u001b[0m\u001b[1;33m]\u001b[0m\u001b[1;33m**\u001b[0m\u001b[1;36m2\u001b[0m\u001b[1;33m)\u001b[0m\u001b[1;33m)\u001b[0m\u001b[1;33m**\u001b[0m\u001b[1;36m1.5\u001b[0m\u001b[1;33m)\u001b[0m\u001b[1;33m)\u001b[0m\u001b[1;33m+\u001b[0m\u001b[1;33m(\u001b[0m\u001b[1;33m(\u001b[0m\u001b[0mml\u001b[0m\u001b[1;33m*\u001b[0m\u001b[1;33m(\u001b[0m\u001b[0mu\u001b[0m\u001b[1;33m[\u001b[0m\u001b[1;36m0\u001b[0m\u001b[1;33m]\u001b[0m\u001b[1;33m-\u001b[0m\u001b[0mlx\u001b[0m\u001b[1;33m)\u001b[0m\u001b[1;33m)\u001b[0m\u001b[1;33m/\u001b[0m\u001b[1;33m(\u001b[0m\u001b[1;33m(\u001b[0m\u001b[1;33m(\u001b[0m\u001b[1;33m(\u001b[0m\u001b[0mu\u001b[0m\u001b[1;33m[\u001b[0m\u001b[1;36m0\u001b[0m\u001b[1;33m]\u001b[0m\u001b[1;33m-\u001b[0m\u001b[0mlx\u001b[0m\u001b[1;33m)\u001b[0m\u001b[1;33m**\u001b[0m\u001b[1;36m2\u001b[0m\u001b[1;33m)\u001b[0m\u001b[1;33m+\u001b[0m\u001b[1;33m(\u001b[0m\u001b[1;33m(\u001b[0m\u001b[0mu\u001b[0m\u001b[1;33m[\u001b[0m\u001b[1;36m2\u001b[0m\u001b[1;33m]\u001b[0m\u001b[1;33m-\u001b[0m\u001b[0mly\u001b[0m\u001b[1;33m)\u001b[0m\u001b[1;33m**\u001b[0m\u001b[1;36m2\u001b[0m\u001b[1;33m)\u001b[0m\u001b[1;33m)\u001b[0m\u001b[1;33m**\u001b[0m\u001b[1;36m1.5\u001b[0m\u001b[1;33m)\u001b[0m\u001b[1;33m)\u001b[0m\u001b[1;33m)\u001b[0m\u001b[1;33m,\u001b[0m\u001b[0mu\u001b[0m\u001b[1;33m[\u001b[0m\u001b[1;36m3\u001b[0m\u001b[1;33m]\u001b[0m\u001b[1;33m,\u001b[0m\u001b[0mG\u001b[0m\u001b[1;33m*\u001b[0m\u001b[1;33m(\u001b[0m\u001b[1;33m(\u001b[0m\u001b[1;33m(\u001b[0m\u001b[1;33m-\u001b[0m\u001b[0mmt\u001b[0m\u001b[1;33m*\u001b[0m\u001b[0mu\u001b[0m\u001b[1;33m[\u001b[0m\u001b[1;36m2\u001b[0m\u001b[1;33m]\u001b[0m\u001b[1;33m)\u001b[0m\u001b[1;33m/\u001b[0m\u001b[1;33m(\u001b[0m\u001b[1;33m(\u001b[0m\u001b[1;33m(\u001b[0m\u001b[0mu\u001b[0m\u001b[1;33m[\u001b[0m\u001b[1;36m0\u001b[0m\u001b[1;33m]\u001b[0m\u001b[1;33m**\u001b[0m\u001b[1;36m2\u001b[0m\u001b[1;33m)\u001b[0m\u001b[1;33m+\u001b[0m\u001b[1;33m(\u001b[0m\u001b[0mu\u001b[0m\u001b[1;33m[\u001b[0m\u001b[1;36m2\u001b[0m\u001b[1;33m]\u001b[0m\u001b[1;33m**\u001b[0m\u001b[1;36m2\u001b[0m\u001b[1;33m)\u001b[0m\u001b[1;33m)\u001b[0m\u001b[1;33m**\u001b[0m\u001b[1;36m1.5\u001b[0m\u001b[1;33m)\u001b[0m\u001b[1;33m)\u001b[0m\u001b[1;33m+\u001b[0m\u001b[1;33m(\u001b[0m\u001b[1;33m(\u001b[0m\u001b[0mml\u001b[0m\u001b[1;33m*\u001b[0m\u001b[1;33m(\u001b[0m\u001b[0mu\u001b[0m\u001b[1;33m[\u001b[0m\u001b[1;36m2\u001b[0m\u001b[1;33m]\u001b[0m\u001b[1;33m-\u001b[0m\u001b[0mly\u001b[0m\u001b[1;33m)\u001b[0m\u001b[1;33m)\u001b[0m\u001b[1;33m/\u001b[0m\u001b[1;33m(\u001b[0m\u001b[1;33m(\u001b[0m\u001b[1;33m(\u001b[0m\u001b[1;33m(\u001b[0m\u001b[0mu\u001b[0m\u001b[1;33m[\u001b[0m\u001b[1;36m0\u001b[0m\u001b[1;33m]\u001b[0m\u001b[1;33m-\u001b[0m\u001b[0mlx\u001b[0m\u001b[1;33m)\u001b[0m\u001b[1;33m**\u001b[0m\u001b[1;36m2\u001b[0m\u001b[1;33m)\u001b[0m\u001b[1;33m+\u001b[0m\u001b[1;33m(\u001b[0m\u001b[1;33m(\u001b[0m\u001b[0mu\u001b[0m\u001b[1;33m[\u001b[0m\u001b[1;36m2\u001b[0m\u001b[1;33m]\u001b[0m\u001b[1;33m-\u001b[0m\u001b[0mly\u001b[0m\u001b[1;33m)\u001b[0m\u001b[1;33m**\u001b[0m\u001b[1;36m2\u001b[0m\u001b[1;33m)\u001b[0m\u001b[1;33m)\u001b[0m\u001b[1;33m**\u001b[0m\u001b[1;36m1.5\u001b[0m\u001b[1;33m)\u001b[0m\u001b[1;33m)\u001b[0m\u001b[1;33m)\u001b[0m\u001b[1;33m]\u001b[0m\u001b[1;33m)\u001b[0m\u001b[1;33m\u001b[0m\u001b[0m\n",
      "\u001b[1;31mIndexError\u001b[0m: list index out of range"
     ]
    }
   ],
   "source": [
    "RK4a(ua,1209600,1)"
   ]
  },
  {
   "cell_type": "code",
   "execution_count": null,
   "metadata": {},
   "outputs": [],
   "source": [
    "RK4a(ua,1209600,6371000)"
   ]
  },
  {
   "cell_type": "markdown",
   "metadata": {},
   "source": [
    "Nous avons impose la condition sur R puisque sinon à un certain temps l'asteroide se rapproche tellement du centre de la terre que nous obtenons de valeurs enormes pour notre position et notre vitesse"
   ]
  },
  {
   "cell_type": "code",
   "execution_count": null,
   "metadata": {},
   "outputs": [],
   "source": []
  },
  {
   "cell_type": "code",
   "execution_count": 16,
   "metadata": {
    "collapsed": true
   },
   "outputs": [],
   "source": []
  },
  {
   "cell_type": "code",
   "execution_count": 19,
   "metadata": {
    "collapsed": true
   },
   "outputs": [],
   "source": []
  },
  {
   "cell_type": "code",
   "execution_count": 22,
   "metadata": {},
   "outputs": [],
   "source": [
    "\n"
   ]
  },
  {
   "cell_type": "code",
   "execution_count": null,
   "metadata": {
    "collapsed": true
   },
   "outputs": [],
   "source": []
  }
 ],
 "metadata": {
  "anaconda-cloud": {},
  "kernelspec": {
   "display_name": "Python 3",
   "language": "python",
   "name": "python3"
  },
  "language_info": {
   "codemirror_mode": {
    "name": "ipython",
    "version": 3
   },
   "file_extension": ".py",
   "mimetype": "text/x-python",
   "name": "python",
   "nbconvert_exporter": "python",
   "pygments_lexer": "ipython3",
   "version": "3.6.3"
  }
 },
 "nbformat": 4,
 "nbformat_minor": 1
}
